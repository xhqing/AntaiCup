{
 "cells": [
  {
   "cell_type": "markdown",
   "metadata": {},
   "source": [
    "# Introduction"
   ]
  },
  {
   "cell_type": "markdown",
   "metadata": {},
   "source": [
    "哈罗，各位 ~ 本文对[安泰杯 —— 跨境电商智能算法大赛](https://tianchi.aliyun.com/competition/entrance/231718/information)数据进行了初探与可视化处理，便于各位更为直观理解赛题数据与建模目标。 没有参加这个比赛的同学可能没有办法在天池这里下载到数据集，可以移步到这里下载：https://pan.baidu.com/s/18Z2mW8TFxwJvOWqmGXdPeg 提取码: iqrd\n",
    "\n",
    "    \n",
    "[赛题目标](https://tianchi.aliyun.com/competition/entrance/231718/introduction)：通过用户历史订单数据，预测用户下一次购买的商品。\n",
    "\n",
    "[赛题数据](https://tianchi.aliyun.com/competition/entrance/231718/information)：第一轮初赛共四个文件：训练数据(Antai_AE_round1_train_20190626.csv)、测试数据(Antai_AE_round1_test_20190626.csv)、商品信息(Antai_AE_round1_item_attr_20190626.csv)、提交示例(Antai_AE_round1_submit_20190715.csv)\n",
    "\n",
    "1. 训练数据：用户每次购买的商品id，订单日期以及用户国家标识\n",
    "\n",
    "2. 测试数据：较于训练数据，测试数据剔除了用户需要预测最后一次购买记录\n",
    "\n",
    "3. 商品信息：商品id、品类id、店铺id和商品价格\n",
    "\n",
    "4. 提交示例：预测用户购买商品Top30的item_id依概率从高到低排序，buyer_admin_id,predict 1,predict 2,…,predict 30\n",
    "\n",
    "第二轮复赛共三个文件：训练数据(Antai_AE_round2_train_20190813.csv)、测试数据(Antai_AE_round2_test_20190813.csv)、商品信息(Antai_AE_round2_item_attr_20190813.csv)"
   ]
  },
  {
   "cell_type": "markdown",
   "metadata": {},
   "source": [
    "## 载入数据分析库包"
   ]
  },
  {
   "cell_type": "code",
   "execution_count": 1,
   "metadata": {},
   "outputs": [],
   "source": [
    "import pandas as pd \n",
    "import numpy as np \n",
    "import matplotlib.pyplot as plt \n",
    "import seaborn as sns \n",
    "import gc\n",
    "%matplotlib inline\n",
    "pd.set_option('display.float_format', lambda x: '%.2f'%x)"
   ]
  },
  {
   "cell_type": "markdown",
   "metadata": {},
   "source": [
    "## 读取数据"
   ]
  },
  {
   "cell_type": "code",
   "execution_count": 2,
   "metadata": {},
   "outputs": [],
   "source": [
    "item = pd.read_csv('../data/Antai_AE/Antai_AE_round1_item_attr_20190626.csv')\n",
    "train = pd.read_csv('../data/Antai_AE/Antai_AE_round1_train_20190626.csv')\n",
    "test = pd.read_csv('../data/Antai_AE/Antai_AE_round1_test_20190626.csv')\n",
    "submit = pd.read_csv('../data/Antai_AE/Antai_AE_round1_submit_20190715.csv', header=None)"
   ]
  },
  {
   "cell_type": "code",
   "execution_count": 3,
   "metadata": {},
   "outputs": [
    {
     "data": {
      "text/html": [
       "<div>\n",
       "<style scoped>\n",
       "    .dataframe tbody tr th:only-of-type {\n",
       "        vertical-align: middle;\n",
       "    }\n",
       "\n",
       "    .dataframe tbody tr th {\n",
       "        vertical-align: top;\n",
       "    }\n",
       "\n",
       "    .dataframe thead th {\n",
       "        text-align: right;\n",
       "    }\n",
       "</style>\n",
       "<table border=\"1\" class=\"dataframe\">\n",
       "  <thead>\n",
       "    <tr style=\"text-align: right;\">\n",
       "      <th></th>\n",
       "      <th>item_id</th>\n",
       "      <th>cate_id</th>\n",
       "      <th>store_id</th>\n",
       "      <th>item_price</th>\n",
       "    </tr>\n",
       "  </thead>\n",
       "  <tbody>\n",
       "    <tr>\n",
       "      <th>0</th>\n",
       "      <td>240607</td>\n",
       "      <td>1495</td>\n",
       "      <td>12239</td>\n",
       "      <td>1</td>\n",
       "    </tr>\n",
       "    <tr>\n",
       "      <th>1</th>\n",
       "      <td>285232</td>\n",
       "      <td>1498</td>\n",
       "      <td>12239</td>\n",
       "      <td>1</td>\n",
       "    </tr>\n",
       "    <tr>\n",
       "      <th>2</th>\n",
       "      <td>113669</td>\n",
       "      <td>1503</td>\n",
       "      <td>12239</td>\n",
       "      <td>1</td>\n",
       "    </tr>\n",
       "    <tr>\n",
       "      <th>3</th>\n",
       "      <td>253601</td>\n",
       "      <td>1422</td>\n",
       "      <td>12239</td>\n",
       "      <td>1</td>\n",
       "    </tr>\n",
       "    <tr>\n",
       "      <th>4</th>\n",
       "      <td>246568</td>\n",
       "      <td>1497</td>\n",
       "      <td>12239</td>\n",
       "      <td>1</td>\n",
       "    </tr>\n",
       "  </tbody>\n",
       "</table>\n",
       "</div>"
      ],
      "text/plain": [
       "   item_id  cate_id  store_id  item_price\n",
       "0   240607     1495     12239           1\n",
       "1   285232     1498     12239           1\n",
       "2   113669     1503     12239           1\n",
       "3   253601     1422     12239           1\n",
       "4   246568     1497     12239           1"
      ]
     },
     "execution_count": 3,
     "metadata": {},
     "output_type": "execute_result"
    }
   ],
   "source": [
    "# 商品属性表:\n",
    "## item_id: 商品id\n",
    "## cate: 类目id\n",
    "## store_id: 店铺id\n",
    "## item_price: 加密价格，其中价格的加密函数f(x)为一个单调增函数\n",
    "item.head()"
   ]
  },
  {
   "cell_type": "code",
   "execution_count": 4,
   "metadata": {},
   "outputs": [
    {
     "data": {
      "text/plain": [
       "item_id       0\n",
       "cate_id       0\n",
       "store_id      0\n",
       "item_price    0\n",
       "dtype: int64"
      ]
     },
     "execution_count": 4,
     "metadata": {},
     "output_type": "execute_result"
    }
   ],
   "source": [
    "item.isnull().sum()"
   ]
  },
  {
   "cell_type": "code",
   "execution_count": 5,
   "metadata": {},
   "outputs": [
    {
     "data": {
      "text/plain": [
       "(2832669, 4243, 95105, 20230)"
      ]
     },
     "execution_count": 5,
     "metadata": {},
     "output_type": "execute_result"
    }
   ],
   "source": [
    "item[\"item_id\"].nunique(), item[\"cate_id\"].nunique(), item[\"store_id\"].nunique(), item[\"item_price\"].nunique()"
   ]
  },
  {
   "cell_type": "code",
   "execution_count": 6,
   "metadata": {},
   "outputs": [
    {
     "data": {
      "text/html": [
       "<div>\n",
       "<style scoped>\n",
       "    .dataframe tbody tr th:only-of-type {\n",
       "        vertical-align: middle;\n",
       "    }\n",
       "\n",
       "    .dataframe tbody tr th {\n",
       "        vertical-align: top;\n",
       "    }\n",
       "\n",
       "    .dataframe thead th {\n",
       "        text-align: right;\n",
       "    }\n",
       "</style>\n",
       "<table border=\"1\" class=\"dataframe\">\n",
       "  <thead>\n",
       "    <tr style=\"text-align: right;\">\n",
       "      <th></th>\n",
       "      <th>buyer_country_id</th>\n",
       "      <th>buyer_admin_id</th>\n",
       "      <th>item_id</th>\n",
       "      <th>create_order_time</th>\n",
       "      <th>irank</th>\n",
       "    </tr>\n",
       "  </thead>\n",
       "  <tbody>\n",
       "    <tr>\n",
       "      <th>0</th>\n",
       "      <td>xx</td>\n",
       "      <td>8362078</td>\n",
       "      <td>1</td>\n",
       "      <td>2018-08-10 23:49:44</td>\n",
       "      <td>12</td>\n",
       "    </tr>\n",
       "    <tr>\n",
       "      <th>1</th>\n",
       "      <td>xx</td>\n",
       "      <td>9694304</td>\n",
       "      <td>2</td>\n",
       "      <td>2018-08-03 23:55:07</td>\n",
       "      <td>9</td>\n",
       "    </tr>\n",
       "    <tr>\n",
       "      <th>2</th>\n",
       "      <td>yy</td>\n",
       "      <td>101887</td>\n",
       "      <td>3</td>\n",
       "      <td>2018-08-27 08:31:26</td>\n",
       "      <td>3</td>\n",
       "    </tr>\n",
       "    <tr>\n",
       "      <th>3</th>\n",
       "      <td>xx</td>\n",
       "      <td>8131786</td>\n",
       "      <td>3</td>\n",
       "      <td>2018-08-31 06:00:19</td>\n",
       "      <td>9</td>\n",
       "    </tr>\n",
       "    <tr>\n",
       "      <th>4</th>\n",
       "      <td>xx</td>\n",
       "      <td>9778613</td>\n",
       "      <td>5</td>\n",
       "      <td>2018-08-21 06:01:56</td>\n",
       "      <td>14</td>\n",
       "    </tr>\n",
       "  </tbody>\n",
       "</table>\n",
       "</div>"
      ],
      "text/plain": [
       "  buyer_country_id  buyer_admin_id  item_id    create_order_time  irank\n",
       "0               xx         8362078        1  2018-08-10 23:49:44     12\n",
       "1               xx         9694304        2  2018-08-03 23:55:07      9\n",
       "2               yy          101887        3  2018-08-27 08:31:26      3\n",
       "3               xx         8131786        3  2018-08-31 06:00:19      9\n",
       "4               xx         9778613        5  2018-08-21 06:01:56     14"
      ]
     },
     "execution_count": 6,
     "metadata": {},
     "output_type": "execute_result"
    }
   ],
   "source": [
    "# xx国的用户的购买数据和yy国的A部分用户的购买数据\n",
    "\n",
    "# buyer_country_id: 买家国家id, 只有'xx'和'yy'两种取值\n",
    "# buyer_admin_id: 买家id\n",
    "# item_id: 商品id\n",
    "# create_order_time: 订单创建时间\n",
    "# irank: 每个买家对应的所有记录按照时间顺序的逆排序\n",
    "\n",
    "train.head()"
   ]
  },
  {
   "cell_type": "code",
   "execution_count": 7,
   "metadata": {},
   "outputs": [
    {
     "data": {
      "text/plain": [
       "buyer_country_id     0\n",
       "buyer_admin_id       0\n",
       "item_id              0\n",
       "create_order_time    0\n",
       "irank                0\n",
       "dtype: int64"
      ]
     },
     "execution_count": 7,
     "metadata": {},
     "output_type": "execute_result"
    }
   ],
   "source": [
    "train.isnull().sum()"
   ]
  },
  {
   "cell_type": "code",
   "execution_count": 8,
   "metadata": {},
   "outputs": [
    {
     "data": {
      "text/html": [
       "<div>\n",
       "<style scoped>\n",
       "    .dataframe tbody tr th:only-of-type {\n",
       "        vertical-align: middle;\n",
       "    }\n",
       "\n",
       "    .dataframe tbody tr th {\n",
       "        vertical-align: top;\n",
       "    }\n",
       "\n",
       "    .dataframe thead th {\n",
       "        text-align: right;\n",
       "    }\n",
       "</style>\n",
       "<table border=\"1\" class=\"dataframe\">\n",
       "  <thead>\n",
       "    <tr style=\"text-align: right;\">\n",
       "      <th></th>\n",
       "      <th>buyer_country_id</th>\n",
       "      <th>buyer_admin_id</th>\n",
       "      <th>item_id</th>\n",
       "      <th>create_order_time</th>\n",
       "      <th>irank</th>\n",
       "    </tr>\n",
       "  </thead>\n",
       "  <tbody>\n",
       "    <tr>\n",
       "      <th>9725766</th>\n",
       "      <td>xx</td>\n",
       "      <td>8362078</td>\n",
       "      <td>9859480</td>\n",
       "      <td>2018-08-28 11:39:21</td>\n",
       "      <td>1</td>\n",
       "    </tr>\n",
       "    <tr>\n",
       "      <th>3487488</th>\n",
       "      <td>xx</td>\n",
       "      <td>8362078</td>\n",
       "      <td>3530082</td>\n",
       "      <td>2018-08-28 11:16:46</td>\n",
       "      <td>2</td>\n",
       "    </tr>\n",
       "    <tr>\n",
       "      <th>4080151</th>\n",
       "      <td>xx</td>\n",
       "      <td>8362078</td>\n",
       "      <td>4130245</td>\n",
       "      <td>2018-08-27 11:49:46</td>\n",
       "      <td>3</td>\n",
       "    </tr>\n",
       "    <tr>\n",
       "      <th>3305675</th>\n",
       "      <td>xx</td>\n",
       "      <td>8362078</td>\n",
       "      <td>3346056</td>\n",
       "      <td>2018-08-27 11:34:43</td>\n",
       "      <td>4</td>\n",
       "    </tr>\n",
       "    <tr>\n",
       "      <th>7182569</th>\n",
       "      <td>xx</td>\n",
       "      <td>8362078</td>\n",
       "      <td>7275850</td>\n",
       "      <td>2018-08-27 11:28:09</td>\n",
       "      <td>5</td>\n",
       "    </tr>\n",
       "    <tr>\n",
       "      <th>5795425</th>\n",
       "      <td>xx</td>\n",
       "      <td>8362078</td>\n",
       "      <td>5869190</td>\n",
       "      <td>2018-08-26 04:53:48</td>\n",
       "      <td>6</td>\n",
       "    </tr>\n",
       "    <tr>\n",
       "      <th>5795424</th>\n",
       "      <td>xx</td>\n",
       "      <td>8362078</td>\n",
       "      <td>5869190</td>\n",
       "      <td>2018-08-26 04:53:48</td>\n",
       "      <td>7</td>\n",
       "    </tr>\n",
       "    <tr>\n",
       "      <th>5768184</th>\n",
       "      <td>xx</td>\n",
       "      <td>8362078</td>\n",
       "      <td>5841575</td>\n",
       "      <td>2018-08-25 11:35:33</td>\n",
       "      <td>8</td>\n",
       "    </tr>\n",
       "    <tr>\n",
       "      <th>6866353</th>\n",
       "      <td>xx</td>\n",
       "      <td>8362078</td>\n",
       "      <td>6955075</td>\n",
       "      <td>2018-08-18 00:53:36</td>\n",
       "      <td>9</td>\n",
       "    </tr>\n",
       "    <tr>\n",
       "      <th>6866354</th>\n",
       "      <td>xx</td>\n",
       "      <td>8362078</td>\n",
       "      <td>6955075</td>\n",
       "      <td>2018-08-18 00:53:36</td>\n",
       "      <td>10</td>\n",
       "    </tr>\n",
       "    <tr>\n",
       "      <th>4406601</th>\n",
       "      <td>xx</td>\n",
       "      <td>8362078</td>\n",
       "      <td>4460989</td>\n",
       "      <td>2018-08-12 23:31:36</td>\n",
       "      <td>11</td>\n",
       "    </tr>\n",
       "    <tr>\n",
       "      <th>0</th>\n",
       "      <td>xx</td>\n",
       "      <td>8362078</td>\n",
       "      <td>1</td>\n",
       "      <td>2018-08-10 23:49:44</td>\n",
       "      <td>12</td>\n",
       "    </tr>\n",
       "  </tbody>\n",
       "</table>\n",
       "</div>"
      ],
      "text/plain": [
       "        buyer_country_id  buyer_admin_id  item_id    create_order_time  irank\n",
       "9725766               xx         8362078  9859480  2018-08-28 11:39:21      1\n",
       "3487488               xx         8362078  3530082  2018-08-28 11:16:46      2\n",
       "4080151               xx         8362078  4130245  2018-08-27 11:49:46      3\n",
       "3305675               xx         8362078  3346056  2018-08-27 11:34:43      4\n",
       "7182569               xx         8362078  7275850  2018-08-27 11:28:09      5\n",
       "5795425               xx         8362078  5869190  2018-08-26 04:53:48      6\n",
       "5795424               xx         8362078  5869190  2018-08-26 04:53:48      7\n",
       "5768184               xx         8362078  5841575  2018-08-25 11:35:33      8\n",
       "6866353               xx         8362078  6955075  2018-08-18 00:53:36      9\n",
       "6866354               xx         8362078  6955075  2018-08-18 00:53:36     10\n",
       "4406601               xx         8362078  4460989  2018-08-12 23:31:36     11\n",
       "0                     xx         8362078        1  2018-08-10 23:49:44     12"
      ]
     },
     "execution_count": 8,
     "metadata": {},
     "output_type": "execute_result"
    }
   ],
   "source": [
    "train.query(\"buyer_admin_id==8362078\").sort_values(by=\"irank\")"
   ]
  },
  {
   "cell_type": "code",
   "execution_count": 9,
   "metadata": {},
   "outputs": [
    {
     "data": {
      "text/html": [
       "<div>\n",
       "<style scoped>\n",
       "    .dataframe tbody tr th:only-of-type {\n",
       "        vertical-align: middle;\n",
       "    }\n",
       "\n",
       "    .dataframe tbody tr th {\n",
       "        vertical-align: top;\n",
       "    }\n",
       "\n",
       "    .dataframe thead th {\n",
       "        text-align: right;\n",
       "    }\n",
       "</style>\n",
       "<table border=\"1\" class=\"dataframe\">\n",
       "  <thead>\n",
       "    <tr style=\"text-align: right;\">\n",
       "      <th></th>\n",
       "      <th>buyer_country_id</th>\n",
       "      <th>buyer_admin_id</th>\n",
       "      <th>item_id</th>\n",
       "      <th>create_order_time</th>\n",
       "      <th>irank</th>\n",
       "    </tr>\n",
       "  </thead>\n",
       "  <tbody>\n",
       "    <tr>\n",
       "      <th>0</th>\n",
       "      <td>yy</td>\n",
       "      <td>1061132</td>\n",
       "      <td>189045</td>\n",
       "      <td>2018-07-17 07:43:40</td>\n",
       "      <td>18</td>\n",
       "    </tr>\n",
       "    <tr>\n",
       "      <th>1</th>\n",
       "      <td>yy</td>\n",
       "      <td>1081430</td>\n",
       "      <td>10713670</td>\n",
       "      <td>2018-07-17 09:43:15</td>\n",
       "      <td>8</td>\n",
       "    </tr>\n",
       "    <tr>\n",
       "      <th>2</th>\n",
       "      <td>yy</td>\n",
       "      <td>1918135</td>\n",
       "      <td>10546322</td>\n",
       "      <td>2018-07-17 11:11:34</td>\n",
       "      <td>9</td>\n",
       "    </tr>\n",
       "    <tr>\n",
       "      <th>3</th>\n",
       "      <td>yy</td>\n",
       "      <td>103277</td>\n",
       "      <td>5199603</td>\n",
       "      <td>2018-07-17 13:27:44</td>\n",
       "      <td>24</td>\n",
       "    </tr>\n",
       "    <tr>\n",
       "      <th>4</th>\n",
       "      <td>yy</td>\n",
       "      <td>103277</td>\n",
       "      <td>2477273</td>\n",
       "      <td>2018-07-17 13:27:44</td>\n",
       "      <td>22</td>\n",
       "    </tr>\n",
       "  </tbody>\n",
       "</table>\n",
       "</div>"
      ],
      "text/plain": [
       "  buyer_country_id  buyer_admin_id   item_id    create_order_time  irank\n",
       "0               yy         1061132    189045  2018-07-17 07:43:40     18\n",
       "1               yy         1081430  10713670  2018-07-17 09:43:15      8\n",
       "2               yy         1918135  10546322  2018-07-17 11:11:34      9\n",
       "3               yy          103277   5199603  2018-07-17 13:27:44     24\n",
       "4               yy          103277   2477273  2018-07-17 13:27:44     22"
      ]
     },
     "execution_count": 9,
     "metadata": {},
     "output_type": "execute_result"
    }
   ],
   "source": [
    "# yy国的B部分用户的购买数据除掉最后一条\n",
    "test.head()"
   ]
  },
  {
   "cell_type": "code",
   "execution_count": 10,
   "metadata": {},
   "outputs": [
    {
     "data": {
      "text/plain": [
       "buyer_country_id     0\n",
       "buyer_admin_id       0\n",
       "item_id              0\n",
       "create_order_time    0\n",
       "irank                0\n",
       "dtype: int64"
      ]
     },
     "execution_count": 10,
     "metadata": {},
     "output_type": "execute_result"
    }
   ],
   "source": [
    "test.isnull().sum()"
   ]
  },
  {
   "cell_type": "code",
   "execution_count": 11,
   "metadata": {},
   "outputs": [
    {
     "data": {
      "text/plain": [
       "(8, 7)"
      ]
     },
     "execution_count": 11,
     "metadata": {},
     "output_type": "execute_result"
    }
   ],
   "source": [
    "# 数据集特点：\n",
    "# 1）每个用户有至少7条购买数据；\n",
    "# 2）测试数据中每个用户的最后一条购买数据(去掉了)所对应的商品一定在训练数据中出现过；\n",
    "# 3）少量用户在两个国家有购买记录，评测中将忽略这部分记录；\n",
    "train.groupby(\"buyer_admin_id\").size().min(), test.groupby(\"buyer_admin_id\").size().min()"
   ]
  },
  {
   "cell_type": "code",
   "execution_count": 12,
   "metadata": {},
   "outputs": [
    {
     "data": {
      "text/plain": [
       "1    820503\n",
       "2       102\n",
       "Name: buyer_country_id, dtype: int64"
      ]
     },
     "execution_count": 12,
     "metadata": {},
     "output_type": "execute_result"
    }
   ],
   "source": [
    "pd.concat([train, test]).groupby(\"buyer_admin_id\")[\"buyer_country_id\"].nunique().value_counts()"
   ]
  },
  {
   "cell_type": "code",
   "execution_count": 13,
   "metadata": {},
   "outputs": [],
   "source": [
    "two_country_buyers = pd.concat([train, test]).groupby(\"buyer_admin_id\")[\"buyer_country_id\"].nunique()\\\n",
    "    .reset_index().query(\"buyer_country_id==2\")[\"buyer_admin_id\"].tolist()\n",
    "\n",
    "train_buyers = train[\"buyer_admin_id\"].unique().tolist()\n",
    "for b in two_country_buyers:\n",
    "    if b not in train_buyers:\n",
    "        print(b)"
   ]
  },
  {
   "cell_type": "code",
   "execution_count": 14,
   "metadata": {},
   "outputs": [
    {
     "data": {
      "text/html": [
       "<div>\n",
       "<style scoped>\n",
       "    .dataframe tbody tr th:only-of-type {\n",
       "        vertical-align: middle;\n",
       "    }\n",
       "\n",
       "    .dataframe tbody tr th {\n",
       "        vertical-align: top;\n",
       "    }\n",
       "\n",
       "    .dataframe thead th {\n",
       "        text-align: right;\n",
       "    }\n",
       "</style>\n",
       "<table border=\"1\" class=\"dataframe\">\n",
       "  <thead>\n",
       "    <tr style=\"text-align: right;\">\n",
       "      <th></th>\n",
       "      <th>0</th>\n",
       "      <th>1</th>\n",
       "      <th>2</th>\n",
       "      <th>3</th>\n",
       "      <th>4</th>\n",
       "      <th>5</th>\n",
       "      <th>6</th>\n",
       "      <th>7</th>\n",
       "      <th>8</th>\n",
       "      <th>9</th>\n",
       "      <th>...</th>\n",
       "      <th>21</th>\n",
       "      <th>22</th>\n",
       "      <th>23</th>\n",
       "      <th>24</th>\n",
       "      <th>25</th>\n",
       "      <th>26</th>\n",
       "      <th>27</th>\n",
       "      <th>28</th>\n",
       "      <th>29</th>\n",
       "      <th>30</th>\n",
       "    </tr>\n",
       "  </thead>\n",
       "  <tbody>\n",
       "    <tr>\n",
       "      <th>0</th>\n",
       "      <td>152</td>\n",
       "      <td>343131</td>\n",
       "      <td>2140290</td>\n",
       "      <td>2600629</td>\n",
       "      <td>1554159</td>\n",
       "      <td>12211445</td>\n",
       "      <td>776612</td>\n",
       "      <td>1630164</td>\n",
       "      <td>3901301</td>\n",
       "      <td>8353580</td>\n",
       "      <td>...</td>\n",
       "      <td>2327622</td>\n",
       "      <td>2014295</td>\n",
       "      <td>5076158</td>\n",
       "      <td>5042708</td>\n",
       "      <td>818444</td>\n",
       "      <td>10451831</td>\n",
       "      <td>4333367</td>\n",
       "      <td>9437487</td>\n",
       "      <td>8469786</td>\n",
       "      <td>9465790</td>\n",
       "    </tr>\n",
       "    <tr>\n",
       "      <th>1</th>\n",
       "      <td>282</td>\n",
       "      <td>8988184</td>\n",
       "      <td>2210260</td>\n",
       "      <td>96479</td>\n",
       "      <td>4052816</td>\n",
       "      <td>7982989</td>\n",
       "      <td>11143899</td>\n",
       "      <td>10070236</td>\n",
       "      <td>2002400</td>\n",
       "      <td>8757854</td>\n",
       "      <td>...</td>\n",
       "      <td>5630838</td>\n",
       "      <td>8607737</td>\n",
       "      <td>7740462</td>\n",
       "      <td>7028968</td>\n",
       "      <td>9167824</td>\n",
       "      <td>12938507</td>\n",
       "      <td>6399956</td>\n",
       "      <td>3109441</td>\n",
       "      <td>10636176</td>\n",
       "      <td>6255625</td>\n",
       "    </tr>\n",
       "    <tr>\n",
       "      <th>2</th>\n",
       "      <td>321</td>\n",
       "      <td>11140901</td>\n",
       "      <td>4618502</td>\n",
       "      <td>9666424</td>\n",
       "      <td>421308</td>\n",
       "      <td>8443514</td>\n",
       "      <td>12341414</td>\n",
       "      <td>4133929</td>\n",
       "      <td>4374880</td>\n",
       "      <td>9104983</td>\n",
       "      <td>...</td>\n",
       "      <td>12975999</td>\n",
       "      <td>10793761</td>\n",
       "      <td>7524523</td>\n",
       "      <td>666863</td>\n",
       "      <td>204808</td>\n",
       "      <td>8893340</td>\n",
       "      <td>7431033</td>\n",
       "      <td>1773069</td>\n",
       "      <td>12970909</td>\n",
       "      <td>9373627</td>\n",
       "    </tr>\n",
       "    <tr>\n",
       "      <th>3</th>\n",
       "      <td>809</td>\n",
       "      <td>692592</td>\n",
       "      <td>9851186</td>\n",
       "      <td>5206030</td>\n",
       "      <td>1210732</td>\n",
       "      <td>6016462</td>\n",
       "      <td>6971778</td>\n",
       "      <td>11615323</td>\n",
       "      <td>7263674</td>\n",
       "      <td>10901782</td>\n",
       "      <td>...</td>\n",
       "      <td>3227122</td>\n",
       "      <td>10539551</td>\n",
       "      <td>2802000</td>\n",
       "      <td>8251066</td>\n",
       "      <td>9515496</td>\n",
       "      <td>7065316</td>\n",
       "      <td>11997137</td>\n",
       "      <td>4438427</td>\n",
       "      <td>6567724</td>\n",
       "      <td>7212577</td>\n",
       "    </tr>\n",
       "    <tr>\n",
       "      <th>4</th>\n",
       "      <td>870</td>\n",
       "      <td>8361014</td>\n",
       "      <td>2327622</td>\n",
       "      <td>5481981</td>\n",
       "      <td>7530272</td>\n",
       "      <td>11680535</td>\n",
       "      <td>6555249</td>\n",
       "      <td>6137574</td>\n",
       "      <td>914424</td>\n",
       "      <td>10445923</td>\n",
       "      <td>...</td>\n",
       "      <td>8757854</td>\n",
       "      <td>10578287</td>\n",
       "      <td>10715090</td>\n",
       "      <td>7176446</td>\n",
       "      <td>3165153</td>\n",
       "      <td>10144005</td>\n",
       "      <td>8753413</td>\n",
       "      <td>2800387</td>\n",
       "      <td>12152573</td>\n",
       "      <td>1068526</td>\n",
       "    </tr>\n",
       "  </tbody>\n",
       "</table>\n",
       "<p>5 rows × 31 columns</p>\n",
       "</div>"
      ],
      "text/plain": [
       "    0         1        2        3        4         5         6         7   \\\n",
       "0  152    343131  2140290  2600629  1554159  12211445    776612   1630164   \n",
       "1  282   8988184  2210260    96479  4052816   7982989  11143899  10070236   \n",
       "2  321  11140901  4618502  9666424   421308   8443514  12341414   4133929   \n",
       "3  809    692592  9851186  5206030  1210732   6016462   6971778  11615323   \n",
       "4  870   8361014  2327622  5481981  7530272  11680535   6555249   6137574   \n",
       "\n",
       "        8         9   ...        21        22        23       24       25  \\\n",
       "0  3901301   8353580  ...   2327622   2014295   5076158  5042708   818444   \n",
       "1  2002400   8757854  ...   5630838   8607737   7740462  7028968  9167824   \n",
       "2  4374880   9104983  ...  12975999  10793761   7524523   666863   204808   \n",
       "3  7263674  10901782  ...   3227122  10539551   2802000  8251066  9515496   \n",
       "4   914424  10445923  ...   8757854  10578287  10715090  7176446  3165153   \n",
       "\n",
       "         26        27       28        29       30  \n",
       "0  10451831   4333367  9437487   8469786  9465790  \n",
       "1  12938507   6399956  3109441  10636176  6255625  \n",
       "2   8893340   7431033  1773069  12970909  9373627  \n",
       "3   7065316  11997137  4438427   6567724  7212577  \n",
       "4  10144005   8753413  2800387  12152573  1068526  \n",
       "\n",
       "[5 rows x 31 columns]"
      ]
     },
     "execution_count": 14,
     "metadata": {},
     "output_type": "execute_result"
    }
   ],
   "source": [
    "submit.head()"
   ]
  },
  {
   "cell_type": "code",
   "execution_count": 15,
   "metadata": {},
   "outputs": [
    {
     "data": {
      "text/plain": [
       "((11398, 31), 11398)"
      ]
     },
     "execution_count": 15,
     "metadata": {},
     "output_type": "execute_result"
    }
   ],
   "source": [
    "submit.shape, test[\"buyer_admin_id\"].nunique()"
   ]
  },
  {
   "cell_type": "markdown",
   "metadata": {},
   "source": [
    "### 数据预处理\n",
    "* 合并train和test文件\n",
    "* 提取日期年月日等信息\n",
    "* 关联商品价格、品类、店铺\n",
    "* 转化每列数据类型为可存储的最小值，减少内存消耗\n",
    "* 保存为hdf5格式文件，加速读取"
   ]
  },
  {
   "cell_type": "code",
   "execution_count": 16,
   "metadata": {},
   "outputs": [],
   "source": [
    "df = pd.concat([train.assign(is_train=1), test.assign(is_train=0)])\n",
    "\n",
    "df['create_order_time'] = pd.to_datetime(df['create_order_time'])\n",
    "df['date'] = df['create_order_time'].dt.date\n",
    "df['day'] = df['create_order_time'].dt.day\n",
    "df['hour'] = df['create_order_time'].dt.hour\n",
    "\n",
    "df = pd.merge(df, item, how='left', on='item_id')"
   ]
  },
  {
   "cell_type": "code",
   "execution_count": 17,
   "metadata": {},
   "outputs": [
    {
     "data": {
      "text/html": [
       "<div>\n",
       "<style scoped>\n",
       "    .dataframe tbody tr th:only-of-type {\n",
       "        vertical-align: middle;\n",
       "    }\n",
       "\n",
       "    .dataframe tbody tr th {\n",
       "        vertical-align: top;\n",
       "    }\n",
       "\n",
       "    .dataframe thead th {\n",
       "        text-align: right;\n",
       "    }\n",
       "</style>\n",
       "<table border=\"1\" class=\"dataframe\">\n",
       "  <thead>\n",
       "    <tr style=\"text-align: right;\">\n",
       "      <th></th>\n",
       "      <th>buyer_country_id</th>\n",
       "      <th>buyer_admin_id</th>\n",
       "      <th>item_id</th>\n",
       "      <th>create_order_time</th>\n",
       "      <th>irank</th>\n",
       "      <th>is_train</th>\n",
       "      <th>date</th>\n",
       "      <th>day</th>\n",
       "      <th>hour</th>\n",
       "      <th>cate_id</th>\n",
       "      <th>store_id</th>\n",
       "      <th>item_price</th>\n",
       "    </tr>\n",
       "  </thead>\n",
       "  <tbody>\n",
       "    <tr>\n",
       "      <th>0</th>\n",
       "      <td>xx</td>\n",
       "      <td>8362078</td>\n",
       "      <td>1</td>\n",
       "      <td>2018-08-10 23:49:44</td>\n",
       "      <td>12</td>\n",
       "      <td>1</td>\n",
       "      <td>2018-08-10</td>\n",
       "      <td>10</td>\n",
       "      <td>23</td>\n",
       "      <td>2324.00</td>\n",
       "      <td>10013.00</td>\n",
       "      <td>4501.00</td>\n",
       "    </tr>\n",
       "    <tr>\n",
       "      <th>1</th>\n",
       "      <td>xx</td>\n",
       "      <td>9694304</td>\n",
       "      <td>2</td>\n",
       "      <td>2018-08-03 23:55:07</td>\n",
       "      <td>9</td>\n",
       "      <td>1</td>\n",
       "      <td>2018-08-03</td>\n",
       "      <td>3</td>\n",
       "      <td>23</td>\n",
       "      <td>3882.00</td>\n",
       "      <td>4485.00</td>\n",
       "      <td>2751.00</td>\n",
       "    </tr>\n",
       "    <tr>\n",
       "      <th>2</th>\n",
       "      <td>yy</td>\n",
       "      <td>101887</td>\n",
       "      <td>3</td>\n",
       "      <td>2018-08-27 08:31:26</td>\n",
       "      <td>3</td>\n",
       "      <td>1</td>\n",
       "      <td>2018-08-27</td>\n",
       "      <td>27</td>\n",
       "      <td>8</td>\n",
       "      <td>155.00</td>\n",
       "      <td>8341.00</td>\n",
       "      <td>656.00</td>\n",
       "    </tr>\n",
       "    <tr>\n",
       "      <th>3</th>\n",
       "      <td>xx</td>\n",
       "      <td>8131786</td>\n",
       "      <td>3</td>\n",
       "      <td>2018-08-31 06:00:19</td>\n",
       "      <td>9</td>\n",
       "      <td>1</td>\n",
       "      <td>2018-08-31</td>\n",
       "      <td>31</td>\n",
       "      <td>6</td>\n",
       "      <td>155.00</td>\n",
       "      <td>8341.00</td>\n",
       "      <td>656.00</td>\n",
       "    </tr>\n",
       "    <tr>\n",
       "      <th>4</th>\n",
       "      <td>xx</td>\n",
       "      <td>9778613</td>\n",
       "      <td>5</td>\n",
       "      <td>2018-08-21 06:01:56</td>\n",
       "      <td>14</td>\n",
       "      <td>1</td>\n",
       "      <td>2018-08-21</td>\n",
       "      <td>21</td>\n",
       "      <td>6</td>\n",
       "      <td>1191.00</td>\n",
       "      <td>1949.00</td>\n",
       "      <td>1689.00</td>\n",
       "    </tr>\n",
       "  </tbody>\n",
       "</table>\n",
       "</div>"
      ],
      "text/plain": [
       "  buyer_country_id  buyer_admin_id  item_id   create_order_time  irank  \\\n",
       "0               xx         8362078        1 2018-08-10 23:49:44     12   \n",
       "1               xx         9694304        2 2018-08-03 23:55:07      9   \n",
       "2               yy          101887        3 2018-08-27 08:31:26      3   \n",
       "3               xx         8131786        3 2018-08-31 06:00:19      9   \n",
       "4               xx         9778613        5 2018-08-21 06:01:56     14   \n",
       "\n",
       "   is_train        date  day  hour  cate_id  store_id  item_price  \n",
       "0         1  2018-08-10   10    23  2324.00  10013.00     4501.00  \n",
       "1         1  2018-08-03    3    23  3882.00   4485.00     2751.00  \n",
       "2         1  2018-08-27   27     8   155.00   8341.00      656.00  \n",
       "3         1  2018-08-31   31     6   155.00   8341.00      656.00  \n",
       "4         1  2018-08-21   21     6  1191.00   1949.00     1689.00  "
      ]
     },
     "execution_count": 17,
     "metadata": {},
     "output_type": "execute_result"
    }
   ],
   "source": [
    "df.head()"
   ]
  },
  {
   "cell_type": "code",
   "execution_count": 18,
   "metadata": {},
   "outputs": [
    {
     "name": "stdout",
     "output_type": "stream",
     "text": [
      "Before memory usage of properties dataframe is : 1292.8728713989258  MB\n",
      "After memory usage of properties dataframe is : 696.1623153686523  MB\n"
     ]
    }
   ],
   "source": [
    "memory = df.memory_usage().sum() / 1024**2 \n",
    "print('Before memory usage of properties dataframe is :', memory, \" MB\")\n",
    "\n",
    "dtype_dict = {'buyer_admin_id' : 'int32', \n",
    "              'item_id' : 'int32', \n",
    "              'store_id' : pd.Int32Dtype(),\n",
    "              'irank' : 'int16',\n",
    "              'item_price' : pd.Int16Dtype(),\n",
    "              'cate_id' : pd.Int16Dtype(),\n",
    "              'is_train' : 'int8',\n",
    "              'day' : 'int8',\n",
    "              'hour' : 'int8',\n",
    "             }\n",
    "\n",
    "df = df.astype(dtype_dict)\n",
    "memory = df.memory_usage().sum() / 1024**2 \n",
    "print('After memory usage of properties dataframe is :', memory, \" MB\")\n",
    "del train, test; \n",
    "# gc.collect()"
   ]
  },
  {
   "cell_type": "code",
   "execution_count": 21,
   "metadata": {},
   "outputs": [
    {
     "data": {
      "text/plain": [
       "buyer_country_id     False\n",
       "buyer_admin_id       False\n",
       "item_id              False\n",
       "create_order_time    False\n",
       "irank                False\n",
       "is_train             False\n",
       "date                 False\n",
       "day                  False\n",
       "hour                 False\n",
       "cate_id               True\n",
       "store_id              True\n",
       "item_price            True\n",
       "dtype: bool"
      ]
     },
     "execution_count": 21,
     "metadata": {},
     "output_type": "execute_result"
    }
   ],
   "source": [
    "df.isnull().any()"
   ]
  },
  {
   "cell_type": "code",
   "execution_count": 22,
   "metadata": {},
   "outputs": [
    {
     "data": {
      "text/plain": [
       "store_id     1.00\n",
       "item_price   1.00\n",
       "cate_id      1.00\n",
       "dtype: float64"
      ]
     },
     "execution_count": 22,
     "metadata": {},
     "output_type": "execute_result"
    }
   ],
   "source": [
    "df[['store_id', 'item_price', 'cate_id']].min()"
   ]
  },
  {
   "cell_type": "code",
   "execution_count": 23,
   "metadata": {},
   "outputs": [
    {
     "name": "stderr",
     "output_type": "stream",
     "text": [
      "/Users/mac/.local/share/virtualenvs/AntaiCup-vTCStMaD/lib/python3.9/site-packages/tables/path.py:137: NaturalNameWarning: object name is not a valid Python identifier: '1.0'; it does not match the pattern ``^[a-zA-Z_][a-zA-Z0-9_]*$``; you will not be able to use natural naming to access this object; using ``getattr()`` will still work, though\n",
      "  check_attribute_name(name)\n",
      "/var/folders/ls/skqby2m95l3_qvzb_rc2d0q40000gn/T/ipykernel_72676/251884372.py:3: PerformanceWarning: \n",
      "your performance may suffer as PyTables will pickle object types that it cannot\n",
      "map directly to c-types [inferred_type->mixed,key->block5_values] [items->Index(['buyer_country_id', 'date'], dtype='object')]\n",
      "\n",
      "  df.to_hdf('../data/train_test.h5', '1.0')\n"
     ]
    }
   ],
   "source": [
    "for col in ['store_id', 'item_price', 'cate_id']:\n",
    "    df[col] = df[col].fillna(0).astype(np.int32).replace(0, np.nan)\n",
    "df.to_hdf('../data/train_test.h5', '1.0')"
   ]
  },
  {
   "cell_type": "code",
   "execution_count": 24,
   "metadata": {},
   "outputs": [
    {
     "name": "stdout",
     "output_type": "stream",
     "text": [
      "CPU times: user 4.52 s, sys: 1.96 s, total: 6.48 s\n",
      "Wall time: 6.85 s\n"
     ]
    }
   ],
   "source": [
    "%%time\n",
    "df = pd.read_hdf('../data/train_test.h5', '1.0')"
   ]
  },
  {
   "cell_type": "code",
   "execution_count": 26,
   "metadata": {},
   "outputs": [
    {
     "name": "stdout",
     "output_type": "stream",
     "text": [
      "CPU times: user 8.57 s, sys: 1.11 s, total: 9.67 s\n",
      "Wall time: 9.79 s\n"
     ]
    }
   ],
   "source": [
    "%%time\n",
    "train = pd.read_csv('../data/Antai_AE/Antai_AE_round1_train_20190626.csv')\n",
    "test = pd.read_csv('../data/Antai_AE/Antai_AE_round1_test_20190626.csv')\n",
    "item = pd.read_csv('../data/Antai_AE/Antai_AE_round1_item_attr_20190626.csv')\n",
    "del train, test;"
   ]
  },
  {
   "cell_type": "markdown",
   "metadata": {},
   "source": [
    "# Overview: 数据内容"
   ]
  },
  {
   "cell_type": "code",
   "execution_count": 27,
   "metadata": {},
   "outputs": [
    {
     "data": {
      "text/html": [
       "<div>\n",
       "<style scoped>\n",
       "    .dataframe tbody tr th:only-of-type {\n",
       "        vertical-align: middle;\n",
       "    }\n",
       "\n",
       "    .dataframe tbody tr th {\n",
       "        vertical-align: top;\n",
       "    }\n",
       "\n",
       "    .dataframe thead th {\n",
       "        text-align: right;\n",
       "    }\n",
       "</style>\n",
       "<table border=\"1\" class=\"dataframe\">\n",
       "  <thead>\n",
       "    <tr style=\"text-align: right;\">\n",
       "      <th></th>\n",
       "      <th>buyer_country_id</th>\n",
       "      <th>buyer_admin_id</th>\n",
       "      <th>item_id</th>\n",
       "      <th>create_order_time</th>\n",
       "      <th>irank</th>\n",
       "      <th>is_train</th>\n",
       "      <th>date</th>\n",
       "      <th>day</th>\n",
       "      <th>hour</th>\n",
       "      <th>cate_id</th>\n",
       "      <th>store_id</th>\n",
       "      <th>item_price</th>\n",
       "    </tr>\n",
       "  </thead>\n",
       "  <tbody>\n",
       "    <tr>\n",
       "      <th>0</th>\n",
       "      <td>xx</td>\n",
       "      <td>8362078</td>\n",
       "      <td>1</td>\n",
       "      <td>2018-08-10 23:49:44</td>\n",
       "      <td>12</td>\n",
       "      <td>1</td>\n",
       "      <td>2018-08-10</td>\n",
       "      <td>10</td>\n",
       "      <td>23</td>\n",
       "      <td>2324.00</td>\n",
       "      <td>10013.00</td>\n",
       "      <td>4501.00</td>\n",
       "    </tr>\n",
       "    <tr>\n",
       "      <th>1</th>\n",
       "      <td>xx</td>\n",
       "      <td>9694304</td>\n",
       "      <td>2</td>\n",
       "      <td>2018-08-03 23:55:07</td>\n",
       "      <td>9</td>\n",
       "      <td>1</td>\n",
       "      <td>2018-08-03</td>\n",
       "      <td>3</td>\n",
       "      <td>23</td>\n",
       "      <td>3882.00</td>\n",
       "      <td>4485.00</td>\n",
       "      <td>2751.00</td>\n",
       "    </tr>\n",
       "    <tr>\n",
       "      <th>2</th>\n",
       "      <td>yy</td>\n",
       "      <td>101887</td>\n",
       "      <td>3</td>\n",
       "      <td>2018-08-27 08:31:26</td>\n",
       "      <td>3</td>\n",
       "      <td>1</td>\n",
       "      <td>2018-08-27</td>\n",
       "      <td>27</td>\n",
       "      <td>8</td>\n",
       "      <td>155.00</td>\n",
       "      <td>8341.00</td>\n",
       "      <td>656.00</td>\n",
       "    </tr>\n",
       "    <tr>\n",
       "      <th>3</th>\n",
       "      <td>xx</td>\n",
       "      <td>8131786</td>\n",
       "      <td>3</td>\n",
       "      <td>2018-08-31 06:00:19</td>\n",
       "      <td>9</td>\n",
       "      <td>1</td>\n",
       "      <td>2018-08-31</td>\n",
       "      <td>31</td>\n",
       "      <td>6</td>\n",
       "      <td>155.00</td>\n",
       "      <td>8341.00</td>\n",
       "      <td>656.00</td>\n",
       "    </tr>\n",
       "    <tr>\n",
       "      <th>4</th>\n",
       "      <td>xx</td>\n",
       "      <td>9778613</td>\n",
       "      <td>5</td>\n",
       "      <td>2018-08-21 06:01:56</td>\n",
       "      <td>14</td>\n",
       "      <td>1</td>\n",
       "      <td>2018-08-21</td>\n",
       "      <td>21</td>\n",
       "      <td>6</td>\n",
       "      <td>1191.00</td>\n",
       "      <td>1949.00</td>\n",
       "      <td>1689.00</td>\n",
       "    </tr>\n",
       "  </tbody>\n",
       "</table>\n",
       "</div>"
      ],
      "text/plain": [
       "  buyer_country_id  buyer_admin_id  item_id   create_order_time  irank  \\\n",
       "0               xx         8362078        1 2018-08-10 23:49:44     12   \n",
       "1               xx         9694304        2 2018-08-03 23:55:07      9   \n",
       "2               yy          101887        3 2018-08-27 08:31:26      3   \n",
       "3               xx         8131786        3 2018-08-31 06:00:19      9   \n",
       "4               xx         9778613        5 2018-08-21 06:01:56     14   \n",
       "\n",
       "   is_train        date  day  hour  cate_id  store_id  item_price  \n",
       "0         1  2018-08-10   10    23  2324.00  10013.00     4501.00  \n",
       "1         1  2018-08-03    3    23  3882.00   4485.00     2751.00  \n",
       "2         1  2018-08-27   27     8   155.00   8341.00      656.00  \n",
       "3         1  2018-08-31   31     6   155.00   8341.00      656.00  \n",
       "4         1  2018-08-21   21     6  1191.00   1949.00     1689.00  "
      ]
     },
     "execution_count": 27,
     "metadata": {},
     "output_type": "execute_result"
    }
   ],
   "source": [
    "df.head()"
   ]
  },
  {
   "cell_type": "code",
   "execution_count": null,
   "metadata": {},
   "outputs": [],
   "source": [
    "# Null 空值统计\n",
    "for pdf in [df, item]:\n",
    "    for col in pdf.columns:\n",
    "        print(col, pdf[col].isnull().sum())"
   ]
  },
  {
   "cell_type": "code",
   "execution_count": null,
   "metadata": {},
   "outputs": [],
   "source": [
    "df.describe()"
   ]
  },
  {
   "cell_type": "code",
   "execution_count": null,
   "metadata": {},
   "outputs": [],
   "source": [
    "item.describe()"
   ]
  },
  {
   "cell_type": "markdown",
   "metadata": {},
   "source": [
    "数据内容：\n",
    "* 用户、商品、店铺、品类乃至商品价格都是从1开始用整数编号\n",
    "* 订单日期格式为：YYYY-mm-dd HH:mm:ss\n",
    "* 源数据中都木有空值，但是由于某些商品，不在商品表，因此缺少了一些价格、品类信息。"
   ]
  },
  {
   "cell_type": "markdown",
   "metadata": {},
   "source": [
    "# 数据探查"
   ]
  },
  {
   "cell_type": "markdown",
   "metadata": {},
   "source": [
    "下一步，我们依次对每个文件的特征进行基础统计和可视化处理，这是对数据进一步理解的基础。\n",
    "\n",
    "[]~(￣▽￣)~* Let's do it."
   ]
  },
  {
   "cell_type": "markdown",
   "metadata": {},
   "source": [
    "## 训练集与测试集"
   ]
  },
  {
   "cell_type": "code",
   "execution_count": null,
   "metadata": {},
   "outputs": [],
   "source": [
    "train = df['is_train']==1\n",
    "test = df['is_train']==0"
   ]
  },
  {
   "cell_type": "code",
   "execution_count": null,
   "metadata": {},
   "outputs": [],
   "source": [
    "train_count = len(df[train])\n",
    "print('训练集样本量是',train_count)\n",
    "test_count = len(df[test])\n",
    "print('测试集样本量是',test_count)\n",
    "print('样本比例为：', train_count/test_count)"
   ]
  },
  {
   "cell_type": "markdown",
   "metadata": {},
   "source": [
    "### buyer_country_id 国家编号"
   ]
  },
  {
   "cell_type": "code",
   "execution_count": null,
   "metadata": {},
   "outputs": [],
   "source": [
    "def groupby_cnt_ratio(df, col):\n",
    "    if isinstance(col, str):\n",
    "        col = [col]\n",
    "    key = ['is_train', 'buyer_country_id'] + col\n",
    "    \n",
    "    # groupby function\n",
    "    cnt_stat = df.groupby(key).size().to_frame('count')\n",
    "    ratio_stat = (cnt_stat / cnt_stat.groupby(['is_train', 'buyer_country_id']).sum()).rename(columns={'count':'count_ratio'})\n",
    "    return pd.merge(cnt_stat, ratio_stat, on=key, how='outer').sort_values(by=['count'], ascending=False)"
   ]
  },
  {
   "cell_type": "code",
   "execution_count": null,
   "metadata": {},
   "outputs": [],
   "source": [
    "groupby_cnt_ratio(df, [])"
   ]
  },
  {
   "cell_type": "code",
   "execution_count": null,
   "metadata": {},
   "outputs": [],
   "source": [
    "plt.figure(figsize=(8,6))\n",
    "sns.countplot(x='is_train', data = df, palette=['red', 'blue'], hue='buyer_country_id', order=[1, 0])\n",
    "plt.xticks(np.arange(2), ('训练集', '测试集'))\n",
    "plt.xlabel('数据文件')\n",
    "plt.title('国家编号');"
   ]
  },
  {
   "cell_type": "markdown",
   "metadata": {},
   "source": [
    "buyer_country_id 国家编号\n",
    "\n",
    "> 本次比赛给出若干日内来自成熟国家的部分用户的行为数据，以及来自待成熟国家的A部分用户的行为数据，以及待成熟国家的B部分用户的行为数据去除每个用户的最后一条购买数据，让参赛人预测B部分用户的最后一条行为数据。\n",
    "\n",
    "* 训练集中有2个国家数据，xx国家样本数10635642，占比83%，yy国家样本数2232867条，仅占17%\n",
    "* 预测集中有yy国家的166832数据, 训练集中yy国样本数量是测试集中的13倍，如赛题目的所言，期望通过大量成熟国家来预测少量带成熟国家的用户购买行为"
   ]
  },
  {
   "cell_type": "markdown",
   "metadata": {},
   "source": [
    "### buyer_admin_id 用户编号"
   ]
  },
  {
   "cell_type": "code",
   "execution_count": null,
   "metadata": {},
   "outputs": [],
   "source": [
    "print('训练集中用户数量',len(df[train]['buyer_admin_id'].unique()))\n",
    "print('测试集中用户数量',len(df[test]['buyer_admin_id'].unique()))"
   ]
  },
  {
   "cell_type": "code",
   "execution_count": null,
   "metadata": {},
   "outputs": [],
   "source": [
    "union = list(set(df[train]['buyer_admin_id'].unique()).intersection(set(df[test]['buyer_admin_id'].unique())))\n",
    "print('同时在训练集测试集出现的有6位用户，id如下：',union)"
   ]
  },
  {
   "cell_type": "code",
   "execution_count": null,
   "metadata": {},
   "outputs": [],
   "source": [
    "df[train][df['buyer_admin_id'].isin(union)].sort_values(by=['buyer_admin_id','irank']).head(10)"
   ]
  },
  {
   "cell_type": "code",
   "execution_count": null,
   "metadata": {},
   "outputs": [],
   "source": [
    "df[test][df['buyer_admin_id'].isin(union)].sort_values(by=['buyer_admin_id','irank']).head(3)"
   ]
  },
  {
   "cell_type": "code",
   "execution_count": null,
   "metadata": {},
   "outputs": [],
   "source": [
    "df[(train) & (df['irank']==1) & (df['buyer_admin_id'].isin(['12858772','3106927','12368445']))]"
   ]
  },
  {
   "cell_type": "markdown",
   "metadata": {},
   "source": [
    "emmm... 为啥同一个用户在训练集和测试集国家不一样了呢？但是其他信息能对上。。。，而且rank=1的结果直接给出来了。。。\n",
    "\n",
    "id为12858772、3106927、12368445直接把结果给出来\n",
    "\n",
    "可能是数据清洗出问题了，后面再看看怎么处理"
   ]
  },
  {
   "cell_type": "markdown",
   "metadata": {},
   "source": [
    "#### 用户记录数分布"
   ]
  },
  {
   "cell_type": "code",
   "execution_count": null,
   "metadata": {},
   "outputs": [],
   "source": [
    "admin_cnt = groupby_cnt_ratio(df, 'buyer_admin_id')\n",
    "admin_cnt.groupby(['is_train','buyer_country_id']).head(3)"
   ]
  },
  {
   "cell_type": "code",
   "execution_count": null,
   "metadata": {},
   "outputs": [],
   "source": [
    "# 用户购买记录数——最多、最少、中位数\n",
    "admin_cnt.groupby(['is_train','buyer_country_id'])['count'].agg(['max','min','median'])"
   ]
  },
  {
   "cell_type": "code",
   "execution_count": null,
   "metadata": {},
   "outputs": [],
   "source": [
    "fig, ax = plt.subplots(1, 2 ,figsize=(16,6))\n",
    "ax[0].set(xlabel='用户记录数')\n",
    "sns.kdeplot(admin_cnt.loc[(1, 'xx')]['count'].values, ax=ax[0]).set_title('训练集--xx国用户记录数')\n",
    "\n",
    "ax[1].legend(labels=['训练集', '测试集'], loc=\"upper right\")\n",
    "ax[1].set(xlabel='用户记录数')\n",
    "sns.kdeplot(admin_cnt[admin_cnt['count']<50].loc[(1, 'yy')]['count'].values, ax=ax[1]).set_title('yy国用户记录数')\n",
    "sns.kdeplot(admin_cnt[admin_cnt['count']<50].loc[(0, 'yy')]['count'].values, ax=ax[1]);"
   ]
  },
  {
   "cell_type": "markdown",
   "metadata": {},
   "source": [
    "用户记录数进行了一波简单的探查：\n",
    "* 训练集中记录了*809213*个用户的数据，其中id为10828801的用户拔得头筹，有42751条购买记录，用户至少都有8条记录\n",
    "* 训练集中记录了*11398*个用户的数据，其中id为2041038的用户勇冠三军，有1386条购买记录，用户至少有7条记录\n",
    "\n",
    "Notes: 验证集中用户最少仅有7条，是因为最后一条记录被抹去"
   ]
  },
  {
   "cell_type": "markdown",
   "metadata": {},
   "source": [
    "从上面数据和图表看到，用户记录数大都都分布在0~50，少量用户记录甚至超过了10000条，下一步对用户记录数分布继续探索"
   ]
  },
  {
   "cell_type": "code",
   "execution_count": null,
   "metadata": {},
   "outputs": [],
   "source": [
    "admin_cnt.columns = ['记录数', '占比']\n",
    "admin_user_cnt = groupby_cnt_ratio(admin_cnt, '记录数')\n",
    "admin_user_cnt.columns = ['人数', '人数占比']\n",
    "admin_user_cnt.head()"
   ]
  },
  {
   "cell_type": "code",
   "execution_count": null,
   "metadata": {},
   "outputs": [],
   "source": [
    "# xx国——用户记录数与用户数\n",
    "admin_user_cnt.loc[(1,'xx')][['人数','人数占比']].T"
   ]
  },
  {
   "cell_type": "code",
   "execution_count": null,
   "metadata": {},
   "outputs": [],
   "source": [
    "# yy国——记录数与用户数占比\n",
    "admin_user_cnt.loc[([1,0],'yy',slice(None))][['人数','人数占比']].unstack(0).drop('人数',1).head(10)"
   ]
  },
  {
   "cell_type": "code",
   "execution_count": null,
   "metadata": {},
   "outputs": [],
   "source": [
    "fig, ax = plt.subplots(2, 1, figsize=(16,10))\n",
    "admin_plot = admin_user_cnt.reset_index()\n",
    "sns.barplot(x='记录数', y='人数占比', data=admin_plot[(admin_plot['记录数']<50) & (admin_plot['buyer_country_id']=='xx')], \n",
    "            estimator=np.mean, ax=ax[0]).set_title('训练集——xx国记录数与人数占比');\n",
    "\n",
    "sns.barplot(x='记录数', y='人数占比', hue='is_train', data=admin_plot[(admin_plot['记录数']<50) & (admin_plot['buyer_country_id']=='yy')], \n",
    "            estimator=np.mean, ax=ax[1]).set_title('yy国记录数与人数占比');"
   ]
  },
  {
   "cell_type": "markdown",
   "metadata": {},
   "source": [
    "用户记录数进一步探查结论：\n",
    "    * 不管是训练集还是验证集，99%的用户购买记录都在50条内，这是比较符合正常逻辑\n",
    "    * TODO:对于发生大量购买行为的用户，后面再单独探查，是否有其他规律或疑似刷单现象"
   ]
  },
  {
   "cell_type": "markdown",
   "metadata": {},
   "source": [
    "### item_id 商品编号"
   ]
  },
  {
   "cell_type": "code",
   "execution_count": null,
   "metadata": {},
   "outputs": [],
   "source": [
    "print('商品表中商品数：',len(item['item_id'].unique()))\n",
    "print('训练集中商品数：',len(df[train]['item_id'].unique()))\n",
    "print('验证集中商品数：',len(df[test]['item_id'].unique()))\n",
    "print('仅训练集有的商品数：',len(list(set(df[train]['item_id'].unique()).difference(set(df[test]['item_id'].unique())))))\n",
    "print('仅验证集有的商品数：',len(list(set(df[test]['item_id'].unique()).difference(set(df[train]['item_id'].unique())))))\n",
    "print('训练集验证集共同商品数：',len(list(set(df[train]['item_id'].unique()).intersection(set(df[test]['item_id'].unique())))))\n",
    "print('训练集中不在商品表的商品数：',len(list(set(df[train]['item_id'].unique()).difference(set(item['item_id'].unique())))))\n",
    "print('验证集中不在商品表的商品数：',len(list(set(df[test]['item_id'].unique()).difference(set(item['item_id'].unique())))))"
   ]
  },
  {
   "cell_type": "markdown",
   "metadata": {},
   "source": [
    "#### 商品销量"
   ]
  },
  {
   "cell_type": "code",
   "execution_count": null,
   "metadata": {},
   "outputs": [],
   "source": [
    "item_cnt = groupby_cnt_ratio(df, 'item_id')\n",
    "item_cnt.columns=['销量', '总销量占比']\n",
    "item_cnt.reset_index(inplace=True)"
   ]
  },
  {
   "cell_type": "code",
   "execution_count": null,
   "metadata": {},
   "outputs": [],
   "source": [
    "top_item_plot = item_cnt.groupby(['is_train','buyer_country_id']).head(10)"
   ]
  },
  {
   "cell_type": "code",
   "execution_count": null,
   "metadata": {},
   "outputs": [],
   "source": [
    "fig, ax = plt.subplots(2, 1, figsize=(16,12))\n",
    "sns.barplot(x='item_id', y='销量', data=top_item_plot[top_item_plot['buyer_country_id']=='xx'], \n",
    "            order=top_item_plot['item_id'][top_item_plot['buyer_country_id']=='xx'], ax=ax[0], estimator=np.mean).set_title('xx国-TOP热销商品')\n",
    "sns.barplot(x='item_id', y='销量', hue='is_train', data=top_item_plot[top_item_plot['buyer_country_id']=='yy'], \n",
    "            order=top_item_plot['item_id'][top_item_plot['buyer_country_id']=='yy'], ax=ax[1], estimator=np.mean).set_title('yy国-TOP热销商品');"
   ]
  },
  {
   "cell_type": "markdown",
   "metadata": {},
   "source": [
    "初步数据发现：\n",
    "* 训练集中出售最多商品是12691565，卖了112659次。\n",
    "* 训练集中出售最多商品是5595070，卖了112659次。\n",
    "* 大部分商品只有1次出售记录，符合电商长尾属性\n",
    "* 比较奇怪的yy国中，训练集和测试集中热销商品并不太一样"
   ]
  },
  {
   "cell_type": "markdown",
   "metadata": {},
   "source": [
    "#### 整体商品销量分布"
   ]
  },
  {
   "cell_type": "code",
   "execution_count": null,
   "metadata": {},
   "outputs": [],
   "source": [
    "item_order_cnt = groupby_cnt_ratio(item_cnt, '销量')\n",
    "item_order_cnt.columns = ['商品数', '占比']"
   ]
  },
  {
   "cell_type": "code",
   "execution_count": null,
   "metadata": {},
   "outputs": [],
   "source": [
    "item_order_cnt.groupby(['is_train','buyer_country_id']).head(5).sort_values(by=['buyer_country_id','is_train'])"
   ]
  },
  {
   "cell_type": "code",
   "execution_count": null,
   "metadata": {},
   "outputs": [],
   "source": [
    "item_order_plot = item_order_cnt.reset_index()\n",
    "item_order_plot = item_order_plot[item_order_plot['销量']<=8]\n",
    "\n",
    "xx_item_order_plot = item_order_plot[item_order_plot['buyer_country_id']=='xx']\n",
    "yy_item_order_plot = item_order_plot[item_order_plot['buyer_country_id']=='yy']\n",
    "yy_item_order_plot_1 = yy_item_order_plot[yy_item_order_plot['is_train']==1]\n",
    "yy_item_order_plot_0 = yy_item_order_plot[yy_item_order_plot['is_train']==0]"
   ]
  },
  {
   "cell_type": "code",
   "execution_count": null,
   "metadata": {},
   "outputs": [],
   "source": [
    "# 商品销量饼图\n",
    "def text_style_func(pct, allvals):\n",
    "    absolute = int(pct/100.*np.sum(allvals))\n",
    "    return \"{:.1f}%({:d})\".format(pct, absolute)\n",
    "\n",
    "def pie_param(ax, df, color_palette):\n",
    "    return ax.pie(df['占比'].values, autopct=lambda pct: text_style_func(pct, df['商品数']), labels = df['销量'], \n",
    "                  explode = [0.1]+ np.zeros(len(df)-1).tolist(), pctdistance = 0.7, colors=sns.color_palette(color_palette, 8))\n",
    "\n",
    "fig, ax = plt.subplots(1, 3, figsize=(16,12))\n",
    "ax[0].set(xlabel='xx国-商品销量')\n",
    "ax[0].set(ylabel='xx国-商品数量比例')\n",
    "pie_param(ax[0], xx_item_order_plot, \"coolwarm\")\n",
    "ax[1].set(xlabel='yy国-训练集商品销量')\n",
    "pie_param(ax[1], yy_item_order_plot_1, \"Set3\")\n",
    "ax[2].set(xlabel='yy国测试集集商品销量')\n",
    "pie_param(ax[2], yy_item_order_plot_0, \"Set3\");"
   ]
  },
  {
   "cell_type": "code",
   "execution_count": null,
   "metadata": {},
   "outputs": [],
   "source": [
    "print(xx_item_order_plot.head(10)['占比'].sum())\n",
    "print(yy_item_order_plot_1.head(10)['占比'].sum())\n",
    "print(yy_item_order_plot_0.head(10)['占比'].sum())"
   ]
  },
  {
   "cell_type": "markdown",
   "metadata": {},
   "source": [
    "总体来看，由于训练集数据远多于测试集数据：\n",
    "* 训练集商品销量大于测试集商品销量\n",
    "* 长尾趋势严重，热门商品少，大量商品仅有数次销售记录，1单商品占了绝大部分(均超过50%)\n",
    "* 训练集中92%的商品销量不超过10件，而在测试集中97%的商品销量不超过10件\n",
    "* 此外训练集中yy国的商品销量略大于测试集"
   ]
  },
  {
   "cell_type": "markdown",
   "metadata": {},
   "source": [
    "### cate_id 品类编号"
   ]
  },
  {
   "cell_type": "code",
   "execution_count": null,
   "metadata": {},
   "outputs": [],
   "source": [
    "print('商品品类数', len(item['cate_id'].unique()))\n",
    "print('训练集商品品类数', len(df[train]['cate_id'].unique()))\n",
    "print('测试集商品品类数', len(df[test]['cate_id'].unique()))"
   ]
  },
  {
   "cell_type": "markdown",
   "metadata": {},
   "source": [
    "#### 各个品类下商品数量"
   ]
  },
  {
   "cell_type": "code",
   "execution_count": null,
   "metadata": {},
   "outputs": [],
   "source": [
    "cate_cnt = item.groupby(['cate_id']).size().to_frame('count').reset_index()\n",
    "cate_cnt.sort_values(by=['count'], ascending=False).head(5)"
   ]
  },
  {
   "cell_type": "code",
   "execution_count": null,
   "metadata": {},
   "outputs": [],
   "source": [
    "plt.figure(figsize=(12,4))\n",
    "sns.kdeplot(data=cate_cnt[cate_cnt['count']<1000]['count']);"
   ]
  },
  {
   "cell_type": "markdown",
   "metadata": {},
   "source": [
    "我们发现：\n",
    "    * 579品类一花独秀有17W个商品，可能是平台主营方向\n",
    "    * 大部分品类都在100个以上"
   ]
  },
  {
   "cell_type": "markdown",
   "metadata": {},
   "source": [
    "### store_id 店铺编号"
   ]
  },
  {
   "cell_type": "code",
   "execution_count": null,
   "metadata": {},
   "outputs": [],
   "source": [
    "print('商品店铺数', len(item['store_id'].unique()))\n",
    "print('训练集店铺数', len(df[train]['store_id'].unique()))\n",
    "print('测试集店铺数', len(df[train]['store_id'].unique()))"
   ]
  },
  {
   "cell_type": "markdown",
   "metadata": {},
   "source": [
    "#### 店铺下品类数量"
   ]
  },
  {
   "cell_type": "code",
   "execution_count": null,
   "metadata": {},
   "outputs": [],
   "source": [
    "store_cate_cnt = item.groupby(['store_id'])['cate_id'].nunique().to_frame('count').reset_index()\n",
    "store_cate_cnt.sort_values(by=['count'], ascending=False).head(5)"
   ]
  },
  {
   "cell_type": "code",
   "execution_count": null,
   "metadata": {},
   "outputs": [],
   "source": [
    "store_cnt_cate_cnt = store_cate_cnt.groupby(['count']).size().reset_index()\n",
    "store_cnt_cate_cnt.columns = ['店铺品类数', '店铺数量']"
   ]
  },
  {
   "cell_type": "code",
   "execution_count": null,
   "metadata": {},
   "outputs": [],
   "source": [
    "plt.figure(figsize=(12,4))\n",
    "sns.barplot(x='店铺品类数', y='店铺数量', data=store_cnt_cate_cnt[store_cnt_cate_cnt['店铺品类数']<50], estimator=np.mean);"
   ]
  },
  {
   "cell_type": "markdown",
   "metadata": {},
   "source": [
    "#### 店铺下商品数量"
   ]
  },
  {
   "cell_type": "code",
   "execution_count": null,
   "metadata": {},
   "outputs": [],
   "source": [
    "store_item_cnt = item.groupby(['store_id'])['item_id'].nunique().to_frame('count').reset_index()\n",
    "store_item_cnt.sort_values(by=['count'], ascending=False).head(5)"
   ]
  },
  {
   "cell_type": "code",
   "execution_count": null,
   "metadata": {},
   "outputs": [],
   "source": [
    "store_cnt_item_cnt = store_item_cnt.groupby(['count']).size().reset_index()\n",
    "store_cnt_item_cnt.columns = ['店铺商品数', '店铺数量']"
   ]
  },
  {
   "cell_type": "code",
   "execution_count": null,
   "metadata": {},
   "outputs": [],
   "source": [
    "store_cnt_item_cnt.T"
   ]
  },
  {
   "cell_type": "code",
   "execution_count": null,
   "metadata": {},
   "outputs": [],
   "source": [
    "plt.figure(figsize=(16,4))\n",
    "sns.barplot(x='店铺商品数', y='店铺数量', data=store_cnt_item_cnt[store_cnt_item_cnt['店铺商品数']<80], estimator=np.mean);"
   ]
  },
  {
   "cell_type": "markdown",
   "metadata": {},
   "source": [
    "#### item_price 商品价格"
   ]
  },
  {
   "cell_type": "code",
   "execution_count": null,
   "metadata": {},
   "outputs": [],
   "source": [
    "print(item['item_price'].max(), item['item_price'].min(), item['item_price'].mean(), item['item_price'].median())"
   ]
  },
  {
   "cell_type": "code",
   "execution_count": null,
   "metadata": {},
   "outputs": [],
   "source": [
    "plt.figure(figsize=(16,4))\n",
    "plt.subplot(121)\n",
    "sns.kdeplot(item['item_price'])\n",
    "plt.subplot(122)\n",
    "sns.kdeplot(item['item_price'][item['item_price']<1000]);"
   ]
  },
  {
   "cell_type": "code",
   "execution_count": null,
   "metadata": {},
   "outputs": [],
   "source": [
    "price_cnt = item.groupby(['item_price']).size().to_frame('count').reset_index()\n",
    "price_cnt.sort_values(by=['count'], ascending=False).head(10)"
   ]
  },
  {
   "cell_type": "markdown",
   "metadata": {},
   "source": [
    "关于商品价格：商品价格是通过函数转化成了从1开始的整数，最大值为20230，最小值为1。\n",
    "    * 经常对商品价格统计，大部门商品都是整百数，Top5价格200\\500\\100\\400\\300\n",
    "    * TODO：整百商品探查"
   ]
  },
  {
   "cell_type": "markdown",
   "metadata": {},
   "source": [
    "#### 有售商品价格"
   ]
  },
  {
   "cell_type": "code",
   "execution_count": null,
   "metadata": {},
   "outputs": [],
   "source": [
    "print(df[train]['item_price'].max(), df[train]['item_price'].min(), df[train]['item_price'].mean(), df[train]['item_price'].median())\n",
    "print(df[test]['item_price'].max(), df[test]['item_price'].min(), df[test]['item_price'].mean(), df[test]['item_price'].median())"
   ]
  },
  {
   "cell_type": "code",
   "execution_count": null,
   "metadata": {},
   "outputs": [],
   "source": [
    "plt.figure(figsize=(12,4))\n",
    "sns.kdeplot(df[train][df[train]['item_price']<1000][['item_id','item_price']].drop_duplicates()['item_price'])\n",
    "sns.kdeplot(df[test][df[test]['item_price']<1000][['item_id','item_price']].drop_duplicates()['item_price']);"
   ]
  },
  {
   "cell_type": "markdown",
   "metadata": {},
   "source": [
    "商品价格与销量"
   ]
  },
  {
   "cell_type": "code",
   "execution_count": null,
   "metadata": {},
   "outputs": [],
   "source": [
    "df[train].groupby(['item_price'])['item_id'].nunique().to_frame('商品数量').head()"
   ]
  },
  {
   "cell_type": "code",
   "execution_count": null,
   "metadata": {},
   "outputs": [],
   "source": [
    "price_cnt = groupby_cnt_ratio(df, 'item_price')\n",
    "price_cnt.groupby(['is_train', 'buyer_country_id']).head(5)"
   ]
  },
  {
   "cell_type": "markdown",
   "metadata": {},
   "source": [
    "似乎价格与销量并无直接关系\n",
    "    * 但是价格为100、200、300、400、500整百数位居销量榜\n",
    "    * xx国，17844如此高价格的商品销量这么高？"
   ]
  },
  {
   "cell_type": "markdown",
   "metadata": {},
   "source": [
    "### create_order_time 订单日期"
   ]
  },
  {
   "cell_type": "code",
   "execution_count": null,
   "metadata": {},
   "outputs": [],
   "source": [
    "print(df[train]['create_order_time'].min(), df[train]['create_order_time'].max())\n",
    "print(df[test]['create_order_time'].min(), df[test]['create_order_time'].max())"
   ]
  },
  {
   "cell_type": "code",
   "execution_count": null,
   "metadata": {},
   "outputs": [],
   "source": [
    "train_df_seven = df[train][df[train]['create_order_time']<pd.to_datetime('2018-08-01')]\n",
    "train_df_eight = df[train][df[train]['create_order_time']>pd.to_datetime('2018-08-01')]\n",
    "train_df_seven = df[train][df[train]['create_order_time']<pd.to_datetime('2018-08-01')]\n",
    "train_df_eight = df[train][df[train]['create_order_time']>pd.to_datetime('2018-08-01')]"
   ]
  },
  {
   "cell_type": "code",
   "execution_count": null,
   "metadata": {},
   "outputs": [],
   "source": [
    "print('7月数据量',len(df[train][df[train]['create_order_time']<pd.to_datetime('2018-08-01')]),\n",
    "      '\\n8月数据量',len(df[train][df[train]['create_order_time']>pd.to_datetime('2018-08-02')]))"
   ]
  },
  {
   "cell_type": "code",
   "execution_count": null,
   "metadata": {},
   "outputs": [],
   "source": [
    "date_cnt = groupby_cnt_ratio(df, 'date')\n",
    "date_cnt.columns = ['当天销量', \"占比\"]\n",
    "date_cnt = date_cnt.reset_index()"
   ]
  },
  {
   "cell_type": "code",
   "execution_count": null,
   "metadata": {},
   "outputs": [],
   "source": [
    "fig, ax = plt.subplots(2, 1, figsize=(16,10))\n",
    "sns.lineplot(x='date', y='当天销量', hue='buyer_country_id', data=date_cnt[(date_cnt['is_train']==1)], \n",
    "            estimator=np.mean, ax=ax[0]).set_title('训练集——每日销量');\n",
    "\n",
    "sns.lineplot(x='date', y='当天销量', hue='is_train', data=date_cnt[(date_cnt['buyer_country_id']=='yy')], \n",
    "            estimator=np.mean, ax=ax[1]).set_title('yy国每日销量');"
   ]
  },
  {
   "cell_type": "markdown",
   "metadata": {},
   "source": [
    "很明显：\n",
    "* 训练集中7月份数据远小于8月份数据\n",
    "* 训练集中xx国和yy国每日销量趋势十分相似，且在27日有个波峰"
   ]
  },
  {
   "cell_type": "code",
   "execution_count": null,
   "metadata": {},
   "outputs": [],
   "source": [
    "seven = date_cnt[date_cnt['date']<pd.to_datetime('2018-08-02')]\n",
    "eight = date_cnt[date_cnt['date']>=pd.to_datetime('2018-08-02')]"
   ]
  },
  {
   "cell_type": "code",
   "execution_count": null,
   "metadata": {},
   "outputs": [],
   "source": [
    "fig, ax = plt.subplots(2, 3, figsize=(20,16))\n",
    "def barplot(ax, df, title):\n",
    "    df['date'] = df['date'].astype(str)\n",
    "    sns.barplot(y='date', x='当天销量' ,data=df, order=sorted(df['date'].unique()), ax=ax, estimator=np.mean)\\\n",
    "    .set_title(title)\n",
    "    \n",
    "barplot(ax[0][0], seven[(seven['is_train']==1) & (seven['buyer_country_id']=='xx')], 'xx国7月份销量')\n",
    "barplot(ax[1][0], eight[(eight['is_train']==1) & (eight['buyer_country_id']=='xx')], 'xx国8月份销量')\n",
    "barplot(ax[0][1], seven[(seven['is_train']==1) & (seven['buyer_country_id']=='yy')], '训练集-yy国7月份销量')\n",
    "barplot(ax[1][1], eight[(eight['is_train']==1) & (eight['buyer_country_id']=='yy')], '训练集-yy国8月份销量')\n",
    "barplot(ax[0][2], seven[(seven['is_train']==0) & (seven['buyer_country_id']=='yy')], '测试集-yy国7月份销量')\n",
    "barplot(ax[1][2], eight[(eight['is_train']==0) & (eight['buyer_country_id']=='yy')], '测试集-yy国8月份销量')\n",
    "plt.tight_layout()"
   ]
  },
  {
   "cell_type": "markdown",
   "metadata": {},
   "source": [
    "数据放大后看：\n",
    "* 训练集和测试集在8月份有相似的波动规律，27号出现波峰，当天剧增数据有待下一步探查"
   ]
  },
  {
   "cell_type": "markdown",
   "metadata": {},
   "source": [
    "#### 每日uv与商品数(去重)"
   ]
  },
  {
   "cell_type": "code",
   "execution_count": null,
   "metadata": {},
   "outputs": [],
   "source": [
    "unique = df.groupby(['is_train', 'buyer_country_id', 'date']).agg({'buyer_admin_id':'nunique','item_id':['nunique','size']})\n",
    "unique.columns = ['uv','商品数(去重)', '销量']\n",
    "unique = unique.reset_index()\n",
    "unique = pd.melt(unique, id_vars=['is_train', 'buyer_country_id', 'date'], value_vars=['uv', '商品数(去重)', '销量'])\n",
    "unique['date'] = unique['date'].astype(str)\n",
    "unique = unique[unique['date']>='2018-08-02']"
   ]
  },
  {
   "cell_type": "code",
   "execution_count": null,
   "metadata": {},
   "outputs": [],
   "source": [
    "fig, ax = plt.subplots(3, 1, figsize=(16,8), sharex=True)\n",
    "sns.lineplot(x='date', y='value', hue='variable', data=unique[(unique['is_train']==1) & (unique['buyer_country_id']=='xx')], \n",
    "             estimator=np.mean, ax=ax[0]).set_title('xx国每日销售数据');\n",
    "\n",
    "sns.lineplot(x='date', y='value', hue='variable', data=unique[(unique['is_train']==0) & (unique['buyer_country_id']=='yy')], \n",
    "            estimator=np.mean, ax=ax[1]).set_title('训练集-yy国每日销量');\n",
    "\n",
    "sns.lineplot(x='date', y='value', hue='variable', data=unique[(unique['is_train']==1) & (unique['buyer_country_id']=='yy')], \n",
    "            estimator=np.mean, ax=ax[2]).set_title('测试集-yy国每日销量')\n",
    "plt.xticks(rotation=90);"
   ]
  },
  {
   "cell_type": "markdown",
   "metadata": {},
   "source": [
    "对每日的uv、商品数和销量作图发现：\n",
    "* 三者基本上呈正相关，xx国的商品单品销量更高"
   ]
  },
  {
   "cell_type": "markdown",
   "metadata": {},
   "source": [
    "# BASELINE\n",
    "选取用户近30次购买记录作为预测值，越近购买的商品放在越靠前的列，不够30次购买记录的用热销商品5595070填充"
   ]
  },
  {
   "cell_type": "code",
   "execution_count": null,
   "metadata": {},
   "outputs": [],
   "source": [
    "test = pd.read_csv('../data/Antai_AE_round1_test_20190626.csv')\n",
    "tmp = test[test['irank']<=31].sort_values(by=['buyer_country_id', 'buyer_admin_id', 'irank'])[['buyer_admin_id','item_id','irank']]\n",
    "sub = tmp.set_index(['buyer_admin_id', 'irank']).unstack(-1)\n",
    "sub.fillna(5595070).astype(int).reset_index().to_csv('../submit/sub.csv', index=False, header=None)"
   ]
  },
  {
   "cell_type": "code",
   "execution_count": null,
   "metadata": {},
   "outputs": [],
   "source": [
    "sub = pd.read_csv('../submit/sub.csv', header = None)\n",
    "sub.head()"
   ]
  }
 ],
 "metadata": {
  "kernelspec": {
   "display_name": "AntaiCup-vTCStMaD",
   "language": "python",
   "name": "antaicup-vtcstmad"
  },
  "language_info": {
   "codemirror_mode": {
    "name": "ipython",
    "version": 3
   },
   "file_extension": ".py",
   "mimetype": "text/x-python",
   "name": "python",
   "nbconvert_exporter": "python",
   "pygments_lexer": "ipython3",
   "version": "3.9.12"
  }
 },
 "nbformat": 4,
 "nbformat_minor": 4
}
