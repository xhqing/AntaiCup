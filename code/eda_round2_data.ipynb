{
 "cells": [
  {
   "cell_type": "markdown",
   "id": "f5a3ccae-37e0-4c6a-a5a1-9522d5da51ab",
   "metadata": {},
   "source": [
    "# 复赛数据\n",
    "在给出若干日内来自某成熟国家xx的部分用户的点击购买数据，以及来自某待成熟国家yy和待成熟国家zz的A部分用户的点击购买数据，以及国家yy和zz的B部分用户的截止最后一条购买数据之前的所有点击购买数据，让参赛人预测B部分用户的最后一条购买数据。\n",
    "\n",
    "商品属性表: 商品的类目id、店铺id以及加密价格，其中价格的加密函数f(x)为一个单调增函数。\n",
    "训练数据: 给出xx国的用户的点击、购买数据和yy国、zz国的A部分用户的点击、购买数据。\n",
    "测试数据: 给出yy国、zz国的B部分用户的最后一条购买数据之前的点击购买数据.\n",
    "\n",
    "训练数据和测试数据的数据结构是一样的，其中各字段含义如下：\n",
    "country_id: 买家国家id, 只有'xx','yy','zz'三种取值\n",
    "buyer_admin_id: 买家id\n",
    "item_id: 商品id\n",
    "log_time: 商品详情页访问时间\n",
    "irank: 每个买家对应的所有记录按照时间顺序的逆排序\n",
    "buy_flag: 当日是否购买\n",
    "\n",
    "数据集特点：\n",
    "每个用户有若干条点击数据和至少1条购买数据 （但测试数据中该条购买记录可能未给出到选手）\n",
    "每个用户的最后一条数据的buy_flag一定为1 （但测试数据中该条数据未给出到选手）\n",
    "测试数据中每个用户的最后一条点击数据（也是购买数据）所对应的商品一定在训练数据中出现过.\n",
    "可能存在少量跨国买家.\n",
    "\n",
    "要求选手提交的数据\n",
    "关于yy国、zz国的B部分用户每个用户的最后一条购买数据的预测Top30\n",
    "\n",
    "提交说明：\n",
    "选手提交的CSV文件, 其格式应如下：\n",
    "buyer_admin_id,predict 1,predict 2,…,predict 30\n",
    "其中buyer_admin_id为买家id, predict 1 ,…, predict 30 为预测用户购买商品Top30的item_id依概率从高到低排序，不含表头，例如：\n",
    "\n",
    "1233434,4354,23432,6546,...,91343\n",
    "\n",
    "2132133,154,20987,34349,...,78772\n",
    "\n",
    "\n",
    "\n",
    "评估方法：\n",
    "MRR(Mean Reciprocal Rank)： 首先对选手提交的表格中的每个用户计算用户得分\n",
    "$$\n",
    "score\\left(buyer\\right) = \\sum_{k=1}^{30}\\frac{s\\left(buyer,k\\right)}{k}\n",
    "$$\n",
    "\n",
    "其中, 如果选手对该buyer的预测结果predict k命中该buyer的最后一条购买数据则$s\\left(buyer,k\\right)=1$; 否则$s\\left(buyer,k\\right)=0$. 最终得分为所有这些buyer的平均值。\n"
   ]
  },
  {
   "cell_type": "code",
   "execution_count": 1,
   "id": "c2f67c76-44f1-4e44-9969-54a3b699b283",
   "metadata": {
    "tags": []
   },
   "outputs": [],
   "source": [
    "import pandas as pd \n",
    "import numpy as np \n",
    "import matplotlib.pyplot as plt \n",
    "import seaborn as sns \n",
    "%matplotlib inline\n",
    "import gc\n",
    "\n",
    "import warnings\n",
    "warnings.filterwarnings(\"ignore\")"
   ]
  },
  {
   "cell_type": "code",
   "execution_count": 2,
   "id": "2a3c67b3-de20-414d-a793-4854224ad2e3",
   "metadata": {
    "tags": []
   },
   "outputs": [],
   "source": [
    "item = pd.read_csv('../data/Antai_AE/Antai_AE_round2_item_attr_20190813.csv')\n",
    "train = pd.read_csv('../data/Antai_AE/Antai_AE_round2_train_20190813.csv')\n",
    "test = pd.read_csv('../data/Antai_AE/Antai_AE_round2_test_20190813.csv')"
   ]
  },
  {
   "cell_type": "code",
   "execution_count": 3,
   "id": "1640d845-4d35-4a3f-a384-029019ee1ea7",
   "metadata": {
    "tags": []
   },
   "outputs": [
    {
     "data": {
      "text/plain": [
       "item_id       False\n",
       "cate_id       False\n",
       "store_id      False\n",
       "item_price    False\n",
       "dtype: bool"
      ]
     },
     "execution_count": 3,
     "metadata": {},
     "output_type": "execute_result"
    }
   ],
   "source": [
    "item.isnull().any()"
   ]
  },
  {
   "cell_type": "code",
   "execution_count": 4,
   "id": "aaf49bbe-f632-4fc2-a6e2-d37cadc1b826",
   "metadata": {
    "tags": []
   },
   "outputs": [
    {
     "data": {
      "text/html": [
       "<div>\n",
       "<style scoped>\n",
       "    .dataframe tbody tr th:only-of-type {\n",
       "        vertical-align: middle;\n",
       "    }\n",
       "\n",
       "    .dataframe tbody tr th {\n",
       "        vertical-align: top;\n",
       "    }\n",
       "\n",
       "    .dataframe thead th {\n",
       "        text-align: right;\n",
       "    }\n",
       "</style>\n",
       "<table border=\"1\" class=\"dataframe\">\n",
       "  <thead>\n",
       "    <tr style=\"text-align: right;\">\n",
       "      <th></th>\n",
       "      <th>country_id</th>\n",
       "      <th>buyer_admin_id</th>\n",
       "      <th>item_id</th>\n",
       "      <th>log_time</th>\n",
       "      <th>irank</th>\n",
       "      <th>buy_flag</th>\n",
       "    </tr>\n",
       "  </thead>\n",
       "  <tbody>\n",
       "    <tr>\n",
       "      <th>0</th>\n",
       "      <td>xx</td>\n",
       "      <td>1</td>\n",
       "      <td>7554</td>\n",
       "      <td>2018-04-19 10:59:56</td>\n",
       "      <td>79</td>\n",
       "      <td>0</td>\n",
       "    </tr>\n",
       "    <tr>\n",
       "      <th>1</th>\n",
       "      <td>xx</td>\n",
       "      <td>1</td>\n",
       "      <td>7937</td>\n",
       "      <td>2018-04-19 11:17:45</td>\n",
       "      <td>62</td>\n",
       "      <td>0</td>\n",
       "    </tr>\n",
       "    <tr>\n",
       "      <th>2</th>\n",
       "      <td>xx</td>\n",
       "      <td>1</td>\n",
       "      <td>7544</td>\n",
       "      <td>2018-04-18 22:19:30</td>\n",
       "      <td>81</td>\n",
       "      <td>0</td>\n",
       "    </tr>\n",
       "    <tr>\n",
       "      <th>3</th>\n",
       "      <td>xx</td>\n",
       "      <td>1</td>\n",
       "      <td>7559</td>\n",
       "      <td>2018-04-18 22:15:27</td>\n",
       "      <td>82</td>\n",
       "      <td>0</td>\n",
       "    </tr>\n",
       "    <tr>\n",
       "      <th>4</th>\n",
       "      <td>xx</td>\n",
       "      <td>1</td>\n",
       "      <td>7554</td>\n",
       "      <td>2018-04-19 11:28:34</td>\n",
       "      <td>46</td>\n",
       "      <td>0</td>\n",
       "    </tr>\n",
       "  </tbody>\n",
       "</table>\n",
       "</div>"
      ],
      "text/plain": [
       "  country_id  buyer_admin_id  item_id             log_time  irank  buy_flag\n",
       "0         xx               1     7554  2018-04-19 10:59:56     79         0\n",
       "1         xx               1     7937  2018-04-19 11:17:45     62         0\n",
       "2         xx               1     7544  2018-04-18 22:19:30     81         0\n",
       "3         xx               1     7559  2018-04-18 22:15:27     82         0\n",
       "4         xx               1     7554  2018-04-19 11:28:34     46         0"
      ]
     },
     "execution_count": 4,
     "metadata": {},
     "output_type": "execute_result"
    }
   ],
   "source": [
    "train.head()"
   ]
  },
  {
   "cell_type": "code",
   "execution_count": 5,
   "id": "f8a73b16-a7d9-4c32-981d-029f23cdac83",
   "metadata": {
    "tags": []
   },
   "outputs": [
    {
     "data": {
      "text/html": [
       "<div>\n",
       "<style scoped>\n",
       "    .dataframe tbody tr th:only-of-type {\n",
       "        vertical-align: middle;\n",
       "    }\n",
       "\n",
       "    .dataframe tbody tr th {\n",
       "        vertical-align: top;\n",
       "    }\n",
       "\n",
       "    .dataframe thead th {\n",
       "        text-align: right;\n",
       "    }\n",
       "</style>\n",
       "<table border=\"1\" class=\"dataframe\">\n",
       "  <thead>\n",
       "    <tr style=\"text-align: right;\">\n",
       "      <th></th>\n",
       "      <th>country_id</th>\n",
       "      <th>buyer_admin_id</th>\n",
       "      <th>item_id</th>\n",
       "      <th>log_time</th>\n",
       "      <th>irank</th>\n",
       "      <th>buy_flag</th>\n",
       "    </tr>\n",
       "  </thead>\n",
       "  <tbody>\n",
       "    <tr>\n",
       "      <th>0</th>\n",
       "      <td>zz</td>\n",
       "      <td>186</td>\n",
       "      <td>5759164</td>\n",
       "      <td>2018-04-16 05:11:47</td>\n",
       "      <td>37</td>\n",
       "      <td>0</td>\n",
       "    </tr>\n",
       "    <tr>\n",
       "      <th>1</th>\n",
       "      <td>zz</td>\n",
       "      <td>186</td>\n",
       "      <td>2321601</td>\n",
       "      <td>2018-04-16 04:57:35</td>\n",
       "      <td>48</td>\n",
       "      <td>0</td>\n",
       "    </tr>\n",
       "    <tr>\n",
       "      <th>2</th>\n",
       "      <td>zz</td>\n",
       "      <td>186</td>\n",
       "      <td>5244747</td>\n",
       "      <td>2018-04-17 12:24:43</td>\n",
       "      <td>2</td>\n",
       "      <td>0</td>\n",
       "    </tr>\n",
       "    <tr>\n",
       "      <th>3</th>\n",
       "      <td>zz</td>\n",
       "      <td>186</td>\n",
       "      <td>2136020</td>\n",
       "      <td>2018-04-17 11:53:41</td>\n",
       "      <td>8</td>\n",
       "      <td>0</td>\n",
       "    </tr>\n",
       "    <tr>\n",
       "      <th>4</th>\n",
       "      <td>zz</td>\n",
       "      <td>186</td>\n",
       "      <td>2137602</td>\n",
       "      <td>2018-04-16 04:57:36</td>\n",
       "      <td>47</td>\n",
       "      <td>0</td>\n",
       "    </tr>\n",
       "  </tbody>\n",
       "</table>\n",
       "</div>"
      ],
      "text/plain": [
       "  country_id  buyer_admin_id  item_id             log_time  irank  buy_flag\n",
       "0         zz             186  5759164  2018-04-16 05:11:47     37         0\n",
       "1         zz             186  2321601  2018-04-16 04:57:35     48         0\n",
       "2         zz             186  5244747  2018-04-17 12:24:43      2         0\n",
       "3         zz             186  2136020  2018-04-17 11:53:41      8         0\n",
       "4         zz             186  2137602  2018-04-16 04:57:36     47         0"
      ]
     },
     "execution_count": 5,
     "metadata": {},
     "output_type": "execute_result"
    }
   ],
   "source": [
    "test.head()"
   ]
  },
  {
   "cell_type": "code",
   "execution_count": 6,
   "id": "bda15acd-553f-4125-b957-21e0613a0913",
   "metadata": {
    "tags": []
   },
   "outputs": [
    {
     "data": {
      "text/plain": [
       "('2018-04-16 00:00:00', '2018-04-30 23:59:00')"
      ]
     },
     "execution_count": 6,
     "metadata": {},
     "output_type": "execute_result"
    }
   ],
   "source": [
    "train[\"log_time\"].min(), train[\"log_time\"].max()"
   ]
  },
  {
   "cell_type": "code",
   "execution_count": 7,
   "id": "e15fcbaa-de10-415e-b6cd-2e01f222a459",
   "metadata": {
    "tags": []
   },
   "outputs": [
    {
     "data": {
      "text/plain": [
       "('2018-04-16 00:00:05', '2018-04-30 23:52:06')"
      ]
     },
     "execution_count": 7,
     "metadata": {},
     "output_type": "execute_result"
    }
   ],
   "source": [
    "test[\"log_time\"].min(), test[\"log_time\"].max()"
   ]
  },
  {
   "cell_type": "code",
   "execution_count": 8,
   "id": "2b6b0a16-d297-403e-9b7b-d74c9894f3a8",
   "metadata": {
    "tags": []
   },
   "outputs": [
    {
     "data": {
      "text/plain": [
       "(array(['xx', 'zz', 'yy'], dtype=object), array(['zz', 'yy'], dtype=object))"
      ]
     },
     "execution_count": 8,
     "metadata": {},
     "output_type": "execute_result"
    }
   ],
   "source": [
    "train[\"country_id\"].unique(), test[\"country_id\"].unique()"
   ]
  },
  {
   "cell_type": "code",
   "execution_count": 9,
   "id": "d17ca433-d7c6-4aec-be8e-b6dc63186ab5",
   "metadata": {
    "tags": []
   },
   "outputs": [
    {
     "data": {
      "text/plain": [
       "(1, 2)"
      ]
     },
     "execution_count": 9,
     "metadata": {},
     "output_type": "execute_result"
    }
   ],
   "source": [
    "train[\"irank\"].min(), test[\"irank\"].min()"
   ]
  },
  {
   "cell_type": "code",
   "execution_count": 10,
   "id": "1c97e6fb-8563-4ed1-8b95-5d667f3f68be",
   "metadata": {
    "tags": []
   },
   "outputs": [
    {
     "data": {
      "text/plain": [
       "(614960, 9844)"
      ]
     },
     "execution_count": 10,
     "metadata": {},
     "output_type": "execute_result"
    }
   ],
   "source": [
    "train[\"buyer_admin_id\"].nunique(), test[\"buyer_admin_id\"].nunique()"
   ]
  },
  {
   "cell_type": "code",
   "execution_count": 11,
   "id": "0de05773-1fe5-4d5c-b222-6d2a77c411c7",
   "metadata": {
    "tags": []
   },
   "outputs": [
    {
     "data": {
      "text/plain": [
       "(264473, 39848)"
      ]
     },
     "execution_count": 11,
     "metadata": {},
     "output_type": "execute_result"
    }
   ],
   "source": [
    "train[\"irank\"].max(), test[\"irank\"].max()"
   ]
  },
  {
   "cell_type": "code",
   "execution_count": 12,
   "id": "dd0b822e-24c8-42b9-aafe-950868422fc8",
   "metadata": {
    "tags": []
   },
   "outputs": [
    {
     "data": {
      "text/plain": [
       "(array([0, 1]), array([0, 1]))"
      ]
     },
     "execution_count": 12,
     "metadata": {},
     "output_type": "execute_result"
    }
   ],
   "source": [
    "train[\"buy_flag\"].unique(), test[\"buy_flag\"].unique()"
   ]
  },
  {
   "cell_type": "code",
   "execution_count": 13,
   "id": "9c7588eb-6442-40d6-b448-eb59f7bdd627",
   "metadata": {
    "tags": []
   },
   "outputs": [
    {
     "data": {
      "text/plain": [
       "country_id        False\n",
       "buyer_admin_id    False\n",
       "item_id           False\n",
       "log_time          False\n",
       "irank             False\n",
       "buy_flag          False\n",
       "dtype: bool"
      ]
     },
     "execution_count": 13,
     "metadata": {},
     "output_type": "execute_result"
    }
   ],
   "source": [
    "train.isnull().any()"
   ]
  },
  {
   "cell_type": "code",
   "execution_count": 14,
   "id": "26fe7347-eb97-4da5-895e-0a9c574b8e42",
   "metadata": {
    "tags": []
   },
   "outputs": [
    {
     "data": {
      "text/plain": [
       "country_id        False\n",
       "buyer_admin_id    False\n",
       "item_id           False\n",
       "log_time          False\n",
       "irank             False\n",
       "buy_flag          False\n",
       "dtype: bool"
      ]
     },
     "execution_count": 14,
     "metadata": {},
     "output_type": "execute_result"
    }
   ],
   "source": [
    "test.isnull().any()"
   ]
  },
  {
   "cell_type": "code",
   "execution_count": 15,
   "id": "11a1b72d-a8b7-4d89-bd05-2e9c9c74add1",
   "metadata": {
    "tags": []
   },
   "outputs": [
    {
     "data": {
      "text/plain": [
       "(1, 1)"
      ]
     },
     "execution_count": 15,
     "metadata": {},
     "output_type": "execute_result"
    }
   ],
   "source": [
    "train.groupby(\"buyer_admin_id\").size().min(), test.groupby(\"buyer_admin_id\").size().min()"
   ]
  },
  {
   "cell_type": "code",
   "execution_count": 16,
   "id": "332f5752-fd05-46b5-94c2-2bd51f611717",
   "metadata": {
    "tags": []
   },
   "outputs": [
    {
     "data": {
      "text/plain": [
       "(264473, 39847)"
      ]
     },
     "execution_count": 16,
     "metadata": {},
     "output_type": "execute_result"
    }
   ],
   "source": [
    "train.groupby(\"buyer_admin_id\").size().max(), test.groupby(\"buyer_admin_id\").size().max()"
   ]
  },
  {
   "cell_type": "code",
   "execution_count": 17,
   "id": "b410067f-b389-43f3-afce-ebb0ce206331",
   "metadata": {
    "tags": []
   },
   "outputs": [
    {
     "data": {
      "text/plain": [
       "1    624804\n",
       "Name: country_id, dtype: int64"
      ]
     },
     "execution_count": 17,
     "metadata": {},
     "output_type": "execute_result"
    }
   ],
   "source": [
    "pd.concat([train, test]).groupby(\"buyer_admin_id\")[\"country_id\"].nunique().value_counts()"
   ]
  },
  {
   "cell_type": "code",
   "execution_count": 18,
   "id": "4b8018b0-de13-4b21-a53c-664fe964b92a",
   "metadata": {
    "tags": []
   },
   "outputs": [],
   "source": [
    "df = pd.concat([train.assign(is_train=1), test.assign(is_train=0)])\n",
    "del train, test; gc.collect()\n",
    "\n",
    "df['log_time'] = pd.to_datetime(df['log_time'])\n",
    "df['date'] = df['log_time'].dt.date\n",
    "df['day'] = df['log_time'].dt.day\n",
    "df['hour'] = df['log_time'].dt.hour\n",
    "\n",
    "df = pd.merge(df, item, how='left', on='item_id')"
   ]
  },
  {
   "cell_type": "code",
   "execution_count": 19,
   "id": "7507978d-7e90-4158-a2d9-e478aae31c0e",
   "metadata": {
    "tags": []
   },
   "outputs": [
    {
     "data": {
      "text/html": [
       "<div>\n",
       "<style scoped>\n",
       "    .dataframe tbody tr th:only-of-type {\n",
       "        vertical-align: middle;\n",
       "    }\n",
       "\n",
       "    .dataframe tbody tr th {\n",
       "        vertical-align: top;\n",
       "    }\n",
       "\n",
       "    .dataframe thead th {\n",
       "        text-align: right;\n",
       "    }\n",
       "</style>\n",
       "<table border=\"1\" class=\"dataframe\">\n",
       "  <thead>\n",
       "    <tr style=\"text-align: right;\">\n",
       "      <th></th>\n",
       "      <th>country_id</th>\n",
       "      <th>buyer_admin_id</th>\n",
       "      <th>item_id</th>\n",
       "      <th>log_time</th>\n",
       "      <th>irank</th>\n",
       "      <th>buy_flag</th>\n",
       "      <th>is_train</th>\n",
       "      <th>date</th>\n",
       "      <th>day</th>\n",
       "      <th>hour</th>\n",
       "      <th>cate_id</th>\n",
       "      <th>store_id</th>\n",
       "      <th>item_price</th>\n",
       "    </tr>\n",
       "  </thead>\n",
       "  <tbody>\n",
       "    <tr>\n",
       "      <th>0</th>\n",
       "      <td>xx</td>\n",
       "      <td>1</td>\n",
       "      <td>7554</td>\n",
       "      <td>2018-04-19 10:59:56</td>\n",
       "      <td>79</td>\n",
       "      <td>0</td>\n",
       "      <td>1</td>\n",
       "      <td>2018-04-19</td>\n",
       "      <td>19</td>\n",
       "      <td>10</td>\n",
       "      <td>1467.0</td>\n",
       "      <td>9682.0</td>\n",
       "      <td>2067.0</td>\n",
       "    </tr>\n",
       "    <tr>\n",
       "      <th>1</th>\n",
       "      <td>xx</td>\n",
       "      <td>1</td>\n",
       "      <td>7937</td>\n",
       "      <td>2018-04-19 11:17:45</td>\n",
       "      <td>62</td>\n",
       "      <td>0</td>\n",
       "      <td>1</td>\n",
       "      <td>2018-04-19</td>\n",
       "      <td>19</td>\n",
       "      <td>11</td>\n",
       "      <td>1467.0</td>\n",
       "      <td>9541.0</td>\n",
       "      <td>1865.0</td>\n",
       "    </tr>\n",
       "    <tr>\n",
       "      <th>2</th>\n",
       "      <td>xx</td>\n",
       "      <td>1</td>\n",
       "      <td>7544</td>\n",
       "      <td>2018-04-18 22:19:30</td>\n",
       "      <td>81</td>\n",
       "      <td>0</td>\n",
       "      <td>1</td>\n",
       "      <td>2018-04-18</td>\n",
       "      <td>18</td>\n",
       "      <td>22</td>\n",
       "      <td>1467.0</td>\n",
       "      <td>9682.0</td>\n",
       "      <td>1604.0</td>\n",
       "    </tr>\n",
       "    <tr>\n",
       "      <th>3</th>\n",
       "      <td>xx</td>\n",
       "      <td>1</td>\n",
       "      <td>7559</td>\n",
       "      <td>2018-04-18 22:15:27</td>\n",
       "      <td>82</td>\n",
       "      <td>0</td>\n",
       "      <td>1</td>\n",
       "      <td>2018-04-18</td>\n",
       "      <td>18</td>\n",
       "      <td>22</td>\n",
       "      <td>1467.0</td>\n",
       "      <td>9682.0</td>\n",
       "      <td>2067.0</td>\n",
       "    </tr>\n",
       "    <tr>\n",
       "      <th>4</th>\n",
       "      <td>xx</td>\n",
       "      <td>1</td>\n",
       "      <td>7554</td>\n",
       "      <td>2018-04-19 11:28:34</td>\n",
       "      <td>46</td>\n",
       "      <td>0</td>\n",
       "      <td>1</td>\n",
       "      <td>2018-04-19</td>\n",
       "      <td>19</td>\n",
       "      <td>11</td>\n",
       "      <td>1467.0</td>\n",
       "      <td>9682.0</td>\n",
       "      <td>2067.0</td>\n",
       "    </tr>\n",
       "  </tbody>\n",
       "</table>\n",
       "</div>"
      ],
      "text/plain": [
       "  country_id  buyer_admin_id  item_id            log_time  irank  buy_flag  \\\n",
       "0         xx               1     7554 2018-04-19 10:59:56     79         0   \n",
       "1         xx               1     7937 2018-04-19 11:17:45     62         0   \n",
       "2         xx               1     7544 2018-04-18 22:19:30     81         0   \n",
       "3         xx               1     7559 2018-04-18 22:15:27     82         0   \n",
       "4         xx               1     7554 2018-04-19 11:28:34     46         0   \n",
       "\n",
       "   is_train        date  day  hour  cate_id  store_id  item_price  \n",
       "0         1  2018-04-19   19    10   1467.0    9682.0      2067.0  \n",
       "1         1  2018-04-19   19    11   1467.0    9541.0      1865.0  \n",
       "2         1  2018-04-18   18    22   1467.0    9682.0      1604.0  \n",
       "3         1  2018-04-18   18    22   1467.0    9682.0      2067.0  \n",
       "4         1  2018-04-19   19    11   1467.0    9682.0      2067.0  "
      ]
     },
     "execution_count": 19,
     "metadata": {},
     "output_type": "execute_result"
    }
   ],
   "source": [
    "df.head()"
   ]
  },
  {
   "cell_type": "code",
   "execution_count": 20,
   "id": "41effb30-0408-4b22-89f8-e7d9f5c7feba",
   "metadata": {
    "tags": []
   },
   "outputs": [
    {
     "name": "stdout",
     "output_type": "stream",
     "text": [
      "Before memory usage of properties dataframe is : 5631.612686157227  MB\n",
      "After memory usage of properties dataframe is : 3469.475672721863  MB\n"
     ]
    }
   ],
   "source": [
    "memory = df.memory_usage().sum() / 1024**2 \n",
    "print('Before memory usage of properties dataframe is :', memory, \" MB\")\n",
    "\n",
    "dtype_dict = {'buyer_admin_id' : 'int32', \n",
    "              'item_id' : 'int32', \n",
    "              'store_id' : pd.Int32Dtype(),\n",
    "              'irank' : 'int16',\n",
    "              'item_price' : float,\n",
    "              'cate_id' : pd.Int16Dtype(),\n",
    "              'is_train' : 'int8',\n",
    "              'day' : 'int8',\n",
    "              'hour' : 'int8',\n",
    "              'country_id': str,\n",
    "              'date': str\n",
    "             }\n",
    "\n",
    "df = df.astype(dtype_dict)\n",
    "memory = df.memory_usage().sum() / 1024**2 \n",
    "print('After memory usage of properties dataframe is :', memory, \" MB\")"
   ]
  },
  {
   "cell_type": "code",
   "execution_count": 21,
   "id": "5c9594ee-a136-41fc-98eb-99adb0af67b5",
   "metadata": {
    "tags": []
   },
   "outputs": [
    {
     "data": {
      "text/plain": [
       "country_id        False\n",
       "buyer_admin_id    False\n",
       "item_id           False\n",
       "log_time          False\n",
       "irank             False\n",
       "buy_flag          False\n",
       "is_train          False\n",
       "date              False\n",
       "day               False\n",
       "hour              False\n",
       "cate_id            True\n",
       "store_id           True\n",
       "item_price         True\n",
       "dtype: bool"
      ]
     },
     "execution_count": 21,
     "metadata": {},
     "output_type": "execute_result"
    }
   ],
   "source": [
    "df.isnull().any()"
   ]
  },
  {
   "cell_type": "code",
   "execution_count": 22,
   "id": "68bd162a-d4cd-4353-8755-1bb4e287225f",
   "metadata": {
    "tags": []
   },
   "outputs": [
    {
     "data": {
      "text/plain": [
       "store_id      1.0\n",
       "item_price    1.0\n",
       "cate_id       1.0\n",
       "dtype: float64"
      ]
     },
     "execution_count": 22,
     "metadata": {},
     "output_type": "execute_result"
    }
   ],
   "source": [
    "df[['store_id', 'item_price', 'cate_id']].min()"
   ]
  },
  {
   "cell_type": "code",
   "execution_count": 23,
   "id": "9f62304e-2d62-4708-99ae-a184c621207a",
   "metadata": {
    "tags": []
   },
   "outputs": [],
   "source": [
    "# for col in ['store_id', 'item_price', 'cate_id']:\n",
    "#     df[col] = df[col].fillna(0).astype(np.int32).replace(0, np.nan)\n",
    "# df.to_hdf('../data/train_test_round2.h5', key='df', mode='w')\n",
    "# del df; gc.collect()"
   ]
  },
  {
   "cell_type": "code",
   "execution_count": 24,
   "id": "62d8f7b8-9413-4880-9baf-24f25ec74f76",
   "metadata": {
    "tags": []
   },
   "outputs": [],
   "source": [
    "# %%time\n",
    "# df = pd.read_hdf('../data/train_test_round2.h5', key='df')"
   ]
  },
  {
   "cell_type": "code",
   "execution_count": 25,
   "id": "04424550-e84e-40a8-a1c5-33cebab28095",
   "metadata": {
    "tags": []
   },
   "outputs": [],
   "source": [
    "# del df; gc.collect()"
   ]
  },
  {
   "cell_type": "code",
   "execution_count": 26,
   "id": "654762bb-22c5-470f-a176-e678b5d60d3e",
   "metadata": {
    "tags": []
   },
   "outputs": [],
   "source": [
    "# %%time\n",
    "# train = pd.read_csv('../data/Antai_AE/Antai_AE_round2_train_20190813.csv')\n",
    "# test = pd.read_csv('../data/Antai_AE/Antai_AE_round2_test_20190813.csv')\n",
    "# item = pd.read_csv('../data/Antai_AE/Antai_AE_round2_item_attr_20190813.csv')\n",
    "# del train, test; gc.collect()"
   ]
  },
  {
   "cell_type": "markdown",
   "id": "7bc05947-3d73-4ff4-9719-895c2660405d",
   "metadata": {},
   "source": [
    "# data content"
   ]
  },
  {
   "cell_type": "code",
   "execution_count": 27,
   "id": "3e515e58-92d5-47cb-ab6f-8195493fb9aa",
   "metadata": {},
   "outputs": [
    {
     "data": {
      "text/html": [
       "<div>\n",
       "<style scoped>\n",
       "    .dataframe tbody tr th:only-of-type {\n",
       "        vertical-align: middle;\n",
       "    }\n",
       "\n",
       "    .dataframe tbody tr th {\n",
       "        vertical-align: top;\n",
       "    }\n",
       "\n",
       "    .dataframe thead th {\n",
       "        text-align: right;\n",
       "    }\n",
       "</style>\n",
       "<table border=\"1\" class=\"dataframe\">\n",
       "  <thead>\n",
       "    <tr style=\"text-align: right;\">\n",
       "      <th></th>\n",
       "      <th>country_id</th>\n",
       "      <th>buyer_admin_id</th>\n",
       "      <th>item_id</th>\n",
       "      <th>log_time</th>\n",
       "      <th>irank</th>\n",
       "      <th>buy_flag</th>\n",
       "      <th>is_train</th>\n",
       "      <th>date</th>\n",
       "      <th>day</th>\n",
       "      <th>hour</th>\n",
       "      <th>cate_id</th>\n",
       "      <th>store_id</th>\n",
       "      <th>item_price</th>\n",
       "    </tr>\n",
       "  </thead>\n",
       "  <tbody>\n",
       "    <tr>\n",
       "      <th>0</th>\n",
       "      <td>xx</td>\n",
       "      <td>1</td>\n",
       "      <td>7554</td>\n",
       "      <td>2018-04-19 10:59:56</td>\n",
       "      <td>79</td>\n",
       "      <td>0</td>\n",
       "      <td>1</td>\n",
       "      <td>2018-04-19</td>\n",
       "      <td>19</td>\n",
       "      <td>10</td>\n",
       "      <td>1467</td>\n",
       "      <td>9682</td>\n",
       "      <td>2067.0</td>\n",
       "    </tr>\n",
       "    <tr>\n",
       "      <th>1</th>\n",
       "      <td>xx</td>\n",
       "      <td>1</td>\n",
       "      <td>7937</td>\n",
       "      <td>2018-04-19 11:17:45</td>\n",
       "      <td>62</td>\n",
       "      <td>0</td>\n",
       "      <td>1</td>\n",
       "      <td>2018-04-19</td>\n",
       "      <td>19</td>\n",
       "      <td>11</td>\n",
       "      <td>1467</td>\n",
       "      <td>9541</td>\n",
       "      <td>1865.0</td>\n",
       "    </tr>\n",
       "    <tr>\n",
       "      <th>2</th>\n",
       "      <td>xx</td>\n",
       "      <td>1</td>\n",
       "      <td>7544</td>\n",
       "      <td>2018-04-18 22:19:30</td>\n",
       "      <td>81</td>\n",
       "      <td>0</td>\n",
       "      <td>1</td>\n",
       "      <td>2018-04-18</td>\n",
       "      <td>18</td>\n",
       "      <td>22</td>\n",
       "      <td>1467</td>\n",
       "      <td>9682</td>\n",
       "      <td>1604.0</td>\n",
       "    </tr>\n",
       "    <tr>\n",
       "      <th>3</th>\n",
       "      <td>xx</td>\n",
       "      <td>1</td>\n",
       "      <td>7559</td>\n",
       "      <td>2018-04-18 22:15:27</td>\n",
       "      <td>82</td>\n",
       "      <td>0</td>\n",
       "      <td>1</td>\n",
       "      <td>2018-04-18</td>\n",
       "      <td>18</td>\n",
       "      <td>22</td>\n",
       "      <td>1467</td>\n",
       "      <td>9682</td>\n",
       "      <td>2067.0</td>\n",
       "    </tr>\n",
       "    <tr>\n",
       "      <th>4</th>\n",
       "      <td>xx</td>\n",
       "      <td>1</td>\n",
       "      <td>7554</td>\n",
       "      <td>2018-04-19 11:28:34</td>\n",
       "      <td>46</td>\n",
       "      <td>0</td>\n",
       "      <td>1</td>\n",
       "      <td>2018-04-19</td>\n",
       "      <td>19</td>\n",
       "      <td>11</td>\n",
       "      <td>1467</td>\n",
       "      <td>9682</td>\n",
       "      <td>2067.0</td>\n",
       "    </tr>\n",
       "  </tbody>\n",
       "</table>\n",
       "</div>"
      ],
      "text/plain": [
       "  country_id  buyer_admin_id  item_id            log_time  irank  buy_flag  \\\n",
       "0         xx               1     7554 2018-04-19 10:59:56     79         0   \n",
       "1         xx               1     7937 2018-04-19 11:17:45     62         0   \n",
       "2         xx               1     7544 2018-04-18 22:19:30     81         0   \n",
       "3         xx               1     7559 2018-04-18 22:15:27     82         0   \n",
       "4         xx               1     7554 2018-04-19 11:28:34     46         0   \n",
       "\n",
       "   is_train        date  day  hour  cate_id  store_id  item_price  \n",
       "0         1  2018-04-19   19    10     1467      9682      2067.0  \n",
       "1         1  2018-04-19   19    11     1467      9541      1865.0  \n",
       "2         1  2018-04-18   18    22     1467      9682      1604.0  \n",
       "3         1  2018-04-18   18    22     1467      9682      2067.0  \n",
       "4         1  2018-04-19   19    11     1467      9682      2067.0  "
      ]
     },
     "execution_count": 27,
     "metadata": {},
     "output_type": "execute_result"
    }
   ],
   "source": [
    "df.head()"
   ]
  },
  {
   "cell_type": "code",
   "execution_count": 28,
   "id": "12ea29cb-cde9-4fcc-adee-b32bfc6dad6b",
   "metadata": {},
   "outputs": [
    {
     "data": {
      "text/plain": [
       "country_id            0\n",
       "buyer_admin_id        0\n",
       "item_id               0\n",
       "log_time              0\n",
       "irank                 0\n",
       "buy_flag              0\n",
       "is_train              0\n",
       "date                  0\n",
       "day                   0\n",
       "hour                  0\n",
       "cate_id           95958\n",
       "store_id          95958\n",
       "item_price        95958\n",
       "dtype: int64"
      ]
     },
     "execution_count": 28,
     "metadata": {},
     "output_type": "execute_result"
    }
   ],
   "source": [
    "df.isnull().sum()"
   ]
  },
  {
   "cell_type": "code",
   "execution_count": 29,
   "id": "7023f1a8-7c1d-48df-9af2-e70f6f951fb2",
   "metadata": {},
   "outputs": [
    {
     "data": {
      "text/html": [
       "<div>\n",
       "<style scoped>\n",
       "    .dataframe tbody tr th:only-of-type {\n",
       "        vertical-align: middle;\n",
       "    }\n",
       "\n",
       "    .dataframe tbody tr th {\n",
       "        vertical-align: top;\n",
       "    }\n",
       "\n",
       "    .dataframe thead th {\n",
       "        text-align: right;\n",
       "    }\n",
       "</style>\n",
       "<table border=\"1\" class=\"dataframe\">\n",
       "  <thead>\n",
       "    <tr style=\"text-align: right;\">\n",
       "      <th></th>\n",
       "      <th>buyer_admin_id</th>\n",
       "      <th>item_id</th>\n",
       "      <th>irank</th>\n",
       "      <th>buy_flag</th>\n",
       "      <th>is_train</th>\n",
       "      <th>day</th>\n",
       "      <th>hour</th>\n",
       "      <th>cate_id</th>\n",
       "      <th>store_id</th>\n",
       "      <th>item_price</th>\n",
       "    </tr>\n",
       "  </thead>\n",
       "  <tbody>\n",
       "    <tr>\n",
       "      <th>count</th>\n",
       "      <td>5.272477e+07</td>\n",
       "      <td>5.272477e+07</td>\n",
       "      <td>5.272477e+07</td>\n",
       "      <td>5.272477e+07</td>\n",
       "      <td>5.272477e+07</td>\n",
       "      <td>5.272477e+07</td>\n",
       "      <td>5.272477e+07</td>\n",
       "      <td>52628809.0</td>\n",
       "      <td>52628809.0</td>\n",
       "      <td>5.262881e+07</td>\n",
       "    </tr>\n",
       "    <tr>\n",
       "      <th>mean</th>\n",
       "      <td>3.114219e+05</td>\n",
       "      <td>4.333457e+06</td>\n",
       "      <td>2.557213e+02</td>\n",
       "      <td>1.631748e-01</td>\n",
       "      <td>9.838060e-01</td>\n",
       "      <td>2.164609e+01</td>\n",
       "      <td>9.267078e+00</td>\n",
       "      <td>1681.968033</td>\n",
       "      <td>55937.194974</td>\n",
       "      <td>2.718526e+03</td>\n",
       "    </tr>\n",
       "    <tr>\n",
       "      <th>std</th>\n",
       "      <td>1.844761e+05</td>\n",
       "      <td>2.532043e+06</td>\n",
       "      <td>3.213240e+03</td>\n",
       "      <td>3.695250e-01</td>\n",
       "      <td>1.262211e-01</td>\n",
       "      <td>3.961407e+00</td>\n",
       "      <td>6.221378e+00</td>\n",
       "      <td>1058.869124</td>\n",
       "      <td>31055.458137</td>\n",
       "      <td>6.205391e+03</td>\n",
       "    </tr>\n",
       "    <tr>\n",
       "      <th>min</th>\n",
       "      <td>1.000000e+00</td>\n",
       "      <td>1.000000e+00</td>\n",
       "      <td>-3.276800e+04</td>\n",
       "      <td>0.000000e+00</td>\n",
       "      <td>0.000000e+00</td>\n",
       "      <td>1.600000e+01</td>\n",
       "      <td>0.000000e+00</td>\n",
       "      <td>1.0</td>\n",
       "      <td>1.0</td>\n",
       "      <td>1.000000e+00</td>\n",
       "    </tr>\n",
       "    <tr>\n",
       "      <th>25%</th>\n",
       "      <td>1.467390e+05</td>\n",
       "      <td>2.166051e+06</td>\n",
       "      <td>2.200000e+01</td>\n",
       "      <td>0.000000e+00</td>\n",
       "      <td>1.000000e+00</td>\n",
       "      <td>1.800000e+01</td>\n",
       "      <td>4.000000e+00</td>\n",
       "      <td>744.0</td>\n",
       "      <td>30288.0</td>\n",
       "      <td>2.950000e+02</td>\n",
       "    </tr>\n",
       "    <tr>\n",
       "      <th>50%</th>\n",
       "      <td>3.128890e+05</td>\n",
       "      <td>4.211300e+06</td>\n",
       "      <td>5.600000e+01</td>\n",
       "      <td>0.000000e+00</td>\n",
       "      <td>1.000000e+00</td>\n",
       "      <td>2.100000e+01</td>\n",
       "      <td>9.000000e+00</td>\n",
       "      <td>1769.0</td>\n",
       "      <td>57261.0</td>\n",
       "      <td>8.770000e+02</td>\n",
       "    </tr>\n",
       "    <tr>\n",
       "      <th>75%</th>\n",
       "      <td>4.740970e+05</td>\n",
       "      <td>6.461643e+06</td>\n",
       "      <td>1.420000e+02</td>\n",
       "      <td>0.000000e+00</td>\n",
       "      <td>1.000000e+00</td>\n",
       "      <td>2.500000e+01</td>\n",
       "      <td>1.300000e+01</td>\n",
       "      <td>2307.0</td>\n",
       "      <td>81254.0</td>\n",
       "      <td>2.301000e+03</td>\n",
       "    </tr>\n",
       "    <tr>\n",
       "      <th>max</th>\n",
       "      <td>6.266450e+05</td>\n",
       "      <td>9.167200e+06</td>\n",
       "      <td>3.276700e+04</td>\n",
       "      <td>1.000000e+00</td>\n",
       "      <td>1.000000e+00</td>\n",
       "      <td>3.000000e+01</td>\n",
       "      <td>2.300000e+01</td>\n",
       "      <td>4793.0</td>\n",
       "      <td>123617.0</td>\n",
       "      <td>5.080600e+04</td>\n",
       "    </tr>\n",
       "  </tbody>\n",
       "</table>\n",
       "</div>"
      ],
      "text/plain": [
       "       buyer_admin_id       item_id         irank      buy_flag      is_train  \\\n",
       "count    5.272477e+07  5.272477e+07  5.272477e+07  5.272477e+07  5.272477e+07   \n",
       "mean     3.114219e+05  4.333457e+06  2.557213e+02  1.631748e-01  9.838060e-01   \n",
       "std      1.844761e+05  2.532043e+06  3.213240e+03  3.695250e-01  1.262211e-01   \n",
       "min      1.000000e+00  1.000000e+00 -3.276800e+04  0.000000e+00  0.000000e+00   \n",
       "25%      1.467390e+05  2.166051e+06  2.200000e+01  0.000000e+00  1.000000e+00   \n",
       "50%      3.128890e+05  4.211300e+06  5.600000e+01  0.000000e+00  1.000000e+00   \n",
       "75%      4.740970e+05  6.461643e+06  1.420000e+02  0.000000e+00  1.000000e+00   \n",
       "max      6.266450e+05  9.167200e+06  3.276700e+04  1.000000e+00  1.000000e+00   \n",
       "\n",
       "                day          hour      cate_id      store_id    item_price  \n",
       "count  5.272477e+07  5.272477e+07   52628809.0    52628809.0  5.262881e+07  \n",
       "mean   2.164609e+01  9.267078e+00  1681.968033  55937.194974  2.718526e+03  \n",
       "std    3.961407e+00  6.221378e+00  1058.869124  31055.458137  6.205391e+03  \n",
       "min    1.600000e+01  0.000000e+00          1.0           1.0  1.000000e+00  \n",
       "25%    1.800000e+01  4.000000e+00        744.0       30288.0  2.950000e+02  \n",
       "50%    2.100000e+01  9.000000e+00       1769.0       57261.0  8.770000e+02  \n",
       "75%    2.500000e+01  1.300000e+01       2307.0       81254.0  2.301000e+03  \n",
       "max    3.000000e+01  2.300000e+01       4793.0      123617.0  5.080600e+04  "
      ]
     },
     "execution_count": 29,
     "metadata": {},
     "output_type": "execute_result"
    }
   ],
   "source": [
    "df.describe()"
   ]
  },
  {
   "cell_type": "code",
   "execution_count": 30,
   "id": "08692f15-99ca-4699-bbad-bc6bb451bcc2",
   "metadata": {},
   "outputs": [
    {
     "data": {
      "text/plain": [
       "-32768"
      ]
     },
     "execution_count": 30,
     "metadata": {},
     "output_type": "execute_result"
    }
   ],
   "source": [
    "df[\"irank\"].min()"
   ]
  },
  {
   "cell_type": "code",
   "execution_count": 31,
   "id": "206bda02-36c5-4aab-b494-73e11900b88c",
   "metadata": {},
   "outputs": [
    {
     "data": {
      "text/plain": [
       "8803892   -32768\n",
       "5657204   -32768\n",
       "3618399   -32768\n",
       "354146    -32768\n",
       "1387808   -32768\n",
       "           ...  \n",
       "8755071    32767\n",
       "3294630    32767\n",
       "5039742    32767\n",
       "4969069    32767\n",
       "3618400    32767\n",
       "Name: irank, Length: 52724767, dtype: int16"
      ]
     },
     "execution_count": 31,
     "metadata": {},
     "output_type": "execute_result"
    }
   ],
   "source": [
    "df[\"irank\"].sort_values()"
   ]
  },
  {
   "cell_type": "code",
   "execution_count": 32,
   "id": "d03484cb-a3e5-4a30-ba2c-4c1226265a57",
   "metadata": {
    "tags": []
   },
   "outputs": [],
   "source": [
    "train = df['is_train']==1\n",
    "test = df['is_train']==0"
   ]
  },
  {
   "cell_type": "code",
   "execution_count": 33,
   "id": "a06c6b70-18f1-4327-8f9f-3f170668cb01",
   "metadata": {
    "tags": []
   },
   "outputs": [
    {
     "name": "stdout",
     "output_type": "stream",
     "text": [
      "训练集样本量是 51870942\n",
      "测试集样本量是 853825\n",
      "样本比例为： 60.75125699060112\n"
     ]
    }
   ],
   "source": [
    "train_count = len(df[train])\n",
    "print('训练集样本量是', train_count)\n",
    "test_count = len(df[test])\n",
    "print('测试集样本量是', test_count)\n",
    "print('样本比例为：', train_count/test_count)"
   ]
  },
  {
   "cell_type": "code",
   "execution_count": 34,
   "id": "d28fa71f-845f-4b4b-9ec4-b604cd6c3bea",
   "metadata": {
    "tags": []
   },
   "outputs": [],
   "source": [
    "def groupby_cnt_ratio(df, col):\n",
    "    if isinstance(col, str):\n",
    "        col = [col]\n",
    "    key = ['is_train', 'country_id'] + col\n",
    "    \n",
    "    cnt_stat = df.groupby(key).size().to_frame('count')\n",
    "    ratio_stat = (cnt_stat / cnt_stat.groupby(['is_train', 'country_id']).sum()).rename(columns={'count':'count_ratio'})\n",
    "    return pd.merge(cnt_stat, ratio_stat, on=key, how='outer').sort_values(by=['count'], ascending=False)"
   ]
  },
  {
   "cell_type": "code",
   "execution_count": 35,
   "id": "b5400035-1338-440e-86d9-114f3254009b",
   "metadata": {
    "tags": []
   },
   "outputs": [
    {
     "data": {
      "text/html": [
       "<div>\n",
       "<style scoped>\n",
       "    .dataframe tbody tr th:only-of-type {\n",
       "        vertical-align: middle;\n",
       "    }\n",
       "\n",
       "    .dataframe tbody tr th {\n",
       "        vertical-align: top;\n",
       "    }\n",
       "\n",
       "    .dataframe thead th {\n",
       "        text-align: right;\n",
       "    }\n",
       "</style>\n",
       "<table border=\"1\" class=\"dataframe\">\n",
       "  <thead>\n",
       "    <tr style=\"text-align: right;\">\n",
       "      <th></th>\n",
       "      <th></th>\n",
       "      <th>count</th>\n",
       "      <th>count_ratio</th>\n",
       "    </tr>\n",
       "    <tr>\n",
       "      <th>is_train</th>\n",
       "      <th>country_id</th>\n",
       "      <th></th>\n",
       "      <th></th>\n",
       "    </tr>\n",
       "  </thead>\n",
       "  <tbody>\n",
       "    <tr>\n",
       "      <th rowspan=\"3\" valign=\"top\">1</th>\n",
       "      <th>xx</th>\n",
       "      <td>42046596</td>\n",
       "      <td>1.0</td>\n",
       "    </tr>\n",
       "    <tr>\n",
       "      <th>yy</th>\n",
       "      <td>5241393</td>\n",
       "      <td>1.0</td>\n",
       "    </tr>\n",
       "    <tr>\n",
       "      <th>zz</th>\n",
       "      <td>4582953</td>\n",
       "      <td>1.0</td>\n",
       "    </tr>\n",
       "    <tr>\n",
       "      <th rowspan=\"2\" valign=\"top\">0</th>\n",
       "      <th>yy</th>\n",
       "      <td>429319</td>\n",
       "      <td>1.0</td>\n",
       "    </tr>\n",
       "    <tr>\n",
       "      <th>zz</th>\n",
       "      <td>424506</td>\n",
       "      <td>1.0</td>\n",
       "    </tr>\n",
       "  </tbody>\n",
       "</table>\n",
       "</div>"
      ],
      "text/plain": [
       "                        count  count_ratio\n",
       "is_train country_id                       \n",
       "1        xx          42046596          1.0\n",
       "         yy           5241393          1.0\n",
       "         zz           4582953          1.0\n",
       "0        yy            429319          1.0\n",
       "         zz            424506          1.0"
      ]
     },
     "execution_count": 35,
     "metadata": {},
     "output_type": "execute_result"
    }
   ],
   "source": [
    "groupby_cnt_ratio(df, [])"
   ]
  },
  {
   "cell_type": "code",
   "execution_count": null,
   "id": "7ac54a7c-78f9-4ad7-9352-ca4e70a77232",
   "metadata": {
    "tags": []
   },
   "outputs": [],
   "source": [
    "plt.figure(figsize=(8,6))\n",
    "sns.countplot(x='is_train', data=df, palette=['red', 'blue', 'green'], hue='country_id', order=[1, 0])\n",
    "plt.xticks(np.arange(2), ('train', 'test'))\n",
    "plt.xlabel('data file')\n",
    "plt.title('cntry no.');"
   ]
  },
  {
   "cell_type": "code",
   "execution_count": null,
   "id": "23faa8ab-1ff3-4561-b72d-5e864b75503e",
   "metadata": {
    "tags": []
   },
   "outputs": [],
   "source": [
    "print('训练集中用户数量',len(df[train]['buyer_admin_id'].unique()))\n",
    "print('测试集中用户数量',len(df[test]['buyer_admin_id'].unique()))"
   ]
  },
  {
   "cell_type": "code",
   "execution_count": null,
   "id": "240fc727-ad60-4cad-ba85-5ba10a9b0b9f",
   "metadata": {
    "tags": []
   },
   "outputs": [],
   "source": [
    "union = list(set(df[train]['buyer_admin_id'].unique()).intersection(set(df[test]['buyer_admin_id'].unique())))\n",
    "print('同时在训练集和测试集出现的用户，id如下：', union)"
   ]
  },
  {
   "cell_type": "code",
   "execution_count": null,
   "id": "42476005-d1ad-477a-a158-f113aafbb1a7",
   "metadata": {
    "tags": []
   },
   "outputs": [],
   "source": [
    "admin_cnt = groupby_cnt_ratio(df, 'buyer_admin_id')\n",
    "admin_cnt.groupby(['is_train','country_id']).head(3)"
   ]
  },
  {
   "cell_type": "code",
   "execution_count": null,
   "id": "59c06965-dbaf-4cb2-8d33-53db2794d463",
   "metadata": {
    "tags": []
   },
   "outputs": [],
   "source": [
    "admin_cnt.groupby(['is_train','country_id'])['count'].agg(['max','min','median'])"
   ]
  },
  {
   "cell_type": "code",
   "execution_count": null,
   "id": "dc411fc3-218c-4b24-be05-2c9b7340e333",
   "metadata": {
    "tags": []
   },
   "outputs": [],
   "source": [
    "fig, ax = plt.subplots(1, 3 ,figsize=(16,6))\n",
    "ax[0].set(xlabel='buyer records')\n",
    "sns.kdeplot(admin_cnt[admin_cnt['count']<50].reset_index().query(\"is_train==1 and country_id=='xx'\")['count'].values, ax=ax[0])\\\n",
    "    .set_title('train - xx cntry buyer records')\n",
    "\n",
    "ax[1].set(xlabel='buyer records')\n",
    "sns.kdeplot(admin_cnt[admin_cnt['count']<50].reset_index().query(\"is_train==1 and country_id=='yy'\")['count'].values, ax=ax[1])\\\n",
    "    .set_title('yy cntry buyer records')\n",
    "sns.kdeplot(admin_cnt[admin_cnt['count']<50].reset_index().query(\"is_train==0 and country_id=='yy'\")['count'].values, ax=ax[1])\n",
    "ax[1].legend(labels=['train', 'test'], loc=\"upper right\")\n",
    "\n",
    "ax[2].set(xlabel='buyer records')\n",
    "sns.kdeplot(admin_cnt[admin_cnt['count']<50].reset_index().query(\"is_train==1 and country_id=='zz'\")['count'].values, ax=ax[2])\\\n",
    "    .set_title('zz cntry buyer records')\n",
    "sns.kdeplot(admin_cnt[admin_cnt['count']<50].reset_index().query(\"is_train==0 and country_id=='zz'\")['count'].values, ax=ax[2])\n",
    "ax[2].legend(labels=['train', 'test'], loc=\"upper right\")"
   ]
  },
  {
   "cell_type": "code",
   "execution_count": null,
   "id": "a7c173a4-fe2f-4b14-8743-fe638ebcf58b",
   "metadata": {
    "tags": []
   },
   "outputs": [],
   "source": [
    "admin_cnt.columns = ['buyer_click_records_count', 'buyer_click_records_count_ratio']\n",
    "admin_user_cnt = groupby_cnt_ratio(admin_cnt, 'buyer_click_records_count')\n",
    "admin_user_cnt.columns = ['same_click_records_buyers_count', 'same_click_records_buyers_count_ratio']\n",
    "admin_user_cnt.head()"
   ]
  },
  {
   "cell_type": "code",
   "execution_count": null,
   "id": "4850aa3c-09f8-4582-bb5f-2ba40456614b",
   "metadata": {
    "tags": []
   },
   "outputs": [],
   "source": [
    "# xx cnt \n",
    "admin_user_cnt.reset_index().set_index(\"buyer_click_records_count\")\\\n",
    ".query(\"is_train==1 and country_id=='xx'\")[['same_click_records_buyers_count','same_click_records_buyers_count_ratio']].T"
   ]
  },
  {
   "cell_type": "code",
   "execution_count": null,
   "id": "9267bf4e-8fa4-42be-aa9c-7334c351b077",
   "metadata": {
    "tags": []
   },
   "outputs": [],
   "source": [
    "# yy cnt\n",
    "admin_user_cnt.loc[([1,0],'yy',slice(None))].unstack(0).head(10)"
   ]
  },
  {
   "cell_type": "code",
   "execution_count": null,
   "id": "4ea1f77e-36ee-4ab3-93a6-ba6cc9af6f1c",
   "metadata": {
    "tags": []
   },
   "outputs": [],
   "source": [
    "# zz cnt\n",
    "admin_user_cnt.loc[([1,0],'zz',slice(None))].unstack(0).head(10)"
   ]
  },
  {
   "cell_type": "code",
   "execution_count": null,
   "id": "5cb21acc-c80b-45a4-9073-adeca742311f",
   "metadata": {
    "tags": []
   },
   "outputs": [],
   "source": [
    "fig, ax = plt.subplots(3, 1, figsize=(25,25))\n",
    "admin_plot = admin_user_cnt.reset_index()\n",
    "sax = sns.barplot(x='same_click_records_buyers_count', y='same_click_records_buyers_count_ratio', \\\n",
    "            data=admin_plot[(admin_plot['buyer_click_records_count']<100) & (admin_plot['country_id']=='xx')], \n",
    "            estimator=np.mean, ax=ax[0])\n",
    "_ = sax.set_title('train - xx cntry same_click_records_buyers_count and same_click_records_buyers_count_ratio')\n",
    "sax.set_xticklabels(sax.get_xticklabels(), rotation=45)\n",
    "\n",
    "\n",
    "sax = sns.barplot(x='same_click_records_buyers_count', y='same_click_records_buyers_count_ratio', hue='is_train', \\\n",
    "            data=admin_plot[(admin_plot['buyer_click_records_count']<100) & (admin_plot['country_id']=='yy')], \n",
    "            estimator=np.mean, ax=ax[1])\n",
    "_ = sax.set_title('yy cntry same_click_records_buyers_count and same_click_records_buyers_count_ratio')\n",
    "_ = sax.set_xticklabels(sax.get_xticklabels(), rotation=90)\n",
    "\n",
    "sax = sns.barplot(x='same_click_records_buyers_count', y='same_click_records_buyers_count_ratio', hue='is_train', \\\n",
    "            data=admin_plot[(admin_plot['buyer_click_records_count']<100) & (admin_plot['country_id']=='zz')], \n",
    "            estimator=np.mean, ax=ax[2])\n",
    "_ = sax.set_title('zz cntry same_click_records_buyers_count and same_click_records_buyers_count_ratio')\n",
    "_ = sax.set_xticklabels(sax.get_xticklabels(), rotation=90)"
   ]
  },
  {
   "cell_type": "code",
   "execution_count": null,
   "id": "41265c25-91b3-4096-b9b2-20d45b9a70ec",
   "metadata": {
    "tags": []
   },
   "outputs": [],
   "source": [
    "print('商品表中商品数：',len(item['item_id'].unique()))\n",
    "print('训练集中商品数：',len(df[train]['item_id'].unique()))\n",
    "print('测试集中商品数：',len(df[test]['item_id'].unique()))\n",
    "print('仅训练集有的商品数：',len(list(set(df[train]['item_id'].unique()).difference(set(df[test]['item_id'].unique())))))\n",
    "print('仅测试集有的商品数：',len(list(set(df[test]['item_id'].unique()).difference(set(df[train]['item_id'].unique())))))\n",
    "print('训练集测试集共同商品数：',len(list(set(df[train]['item_id'].unique()).intersection(set(df[test]['item_id'].unique())))))\n",
    "print('训练集中不在商品表的商品数：',len(list(set(df[train]['item_id'].unique()).difference(set(item['item_id'].unique())))))\n",
    "print('测试集中不在商品表的商品数：',len(list(set(df[test]['item_id'].unique()).difference(set(item['item_id'].unique())))))"
   ]
  },
  {
   "cell_type": "code",
   "execution_count": null,
   "id": "237d00e0-d126-4cf6-b302-cc970c8096f0",
   "metadata": {
    "tags": []
   },
   "outputs": [],
   "source": [
    "item_cnt = groupby_cnt_ratio(df.query(\"buy_flag==1\"), 'item_id')\n",
    "item_cnt.columns=['sales', 'sales_ratio']\n",
    "item_cnt.reset_index(inplace=True)\n",
    "item_cnt"
   ]
  },
  {
   "cell_type": "code",
   "execution_count": null,
   "id": "7cff252a-cfa2-4ac4-98ea-104fe04fc20e",
   "metadata": {
    "tags": []
   },
   "outputs": [],
   "source": [
    "top_item_plot = item_cnt.groupby(['is_train','country_id']).head(10)\n",
    "top_item_plot"
   ]
  },
  {
   "cell_type": "code",
   "execution_count": null,
   "id": "91abb5de-a8a6-4228-83d5-018a105e311a",
   "metadata": {
    "tags": []
   },
   "outputs": [],
   "source": [
    "fig, ax = plt.subplots(3, 1, figsize=(16,16))\n",
    "sns.barplot(x='item_id', y='sales', data=top_item_plot[top_item_plot['country_id']=='xx'], \n",
    "            order=top_item_plot['item_id'][top_item_plot['country_id']=='xx'], ax=ax[0], estimator=np.mean)\\\n",
    "    .set_title('xx cntry - top sales')\n",
    "\n",
    "sns.barplot(x='item_id', y='sales', hue='is_train', data=top_item_plot[top_item_plot['country_id']=='yy'], \n",
    "            order=top_item_plot['item_id'][top_item_plot['country_id']=='yy'], ax=ax[1], estimator=np.mean)\\\n",
    "    .set_title('yy cntry - top sales')\n",
    "_ = plt.xticks(rotation=45)\n",
    "\n",
    "sns.barplot(x='item_id', y='sales', hue='is_train', data=top_item_plot[top_item_plot['country_id']=='zz'], \n",
    "            order=top_item_plot['item_id'][top_item_plot['country_id']=='zz'], ax=ax[2], estimator=np.mean)\\\n",
    "    .set_title('zz cntry - top sales')\n",
    "_ = plt.xticks(rotation=45)"
   ]
  },
  {
   "cell_type": "code",
   "execution_count": null,
   "id": "295aff48-4536-4f7b-ac2d-2529371cd109",
   "metadata": {
    "tags": []
   },
   "outputs": [],
   "source": [
    "item_order_cnt = groupby_cnt_ratio(item_cnt, 'sales')\n",
    "item_order_cnt.columns = ['sales_count', 'sales_count_ratio']\n",
    "item_order_cnt"
   ]
  },
  {
   "cell_type": "code",
   "execution_count": null,
   "id": "976dd5e4-bfe6-4538-b56a-e872eedc2a19",
   "metadata": {
    "tags": []
   },
   "outputs": [],
   "source": [
    "item_order_cnt.groupby(['is_train','country_id']).head(5).sort_values(by=['country_id','is_train'])"
   ]
  },
  {
   "cell_type": "code",
   "execution_count": null,
   "id": "4ca5e58f-4fd4-449a-bddd-da0e95d44580",
   "metadata": {
    "tags": []
   },
   "outputs": [],
   "source": [
    "item_order_plot = item_order_cnt.reset_index()\n",
    "\n",
    "xx_item_order_plot = item_order_plot[item_order_plot['country_id']=='xx']\n",
    "\n",
    "yy_item_order_plot = item_order_plot[item_order_plot['country_id']=='yy']\n",
    "yy_item_order_plot_1 = yy_item_order_plot[yy_item_order_plot['is_train']==1]\n",
    "yy_item_order_plot_0 = yy_item_order_plot[yy_item_order_plot['is_train']==0]\n",
    "\n",
    "zz_item_order_plot = item_order_plot[item_order_plot['country_id']=='zz']\n",
    "zz_item_order_plot_1 = zz_item_order_plot[zz_item_order_plot['is_train']==1]\n",
    "zz_item_order_plot_0 = zz_item_order_plot[zz_item_order_plot['is_train']==0]"
   ]
  },
  {
   "cell_type": "code",
   "execution_count": null,
   "id": "8452bae7-f870-4e84-9d76-edd4ed4d03d3",
   "metadata": {
    "tags": []
   },
   "outputs": [],
   "source": [
    "def text_style_func(pct, allvals):\n",
    "    absolute = int(round(pct/100.*np.sum(allvals)))\n",
    "    return \"{:.1f}%({:d})\".format(pct, absolute)\n",
    "\n",
    "def pie_param(ax, df, color_palette):\n",
    "    return ax.pie(df['sales_count_ratio'].values, \\\n",
    "                  autopct=lambda pct: text_style_func(pct, df['sales_count']), \\\n",
    "                  labels=df['sales'], explode=[0.1]+np.zeros(len(df)-1).tolist(), pctdistance=0.7, \\\n",
    "                  colors=sns.color_palette(color_palette, 8))\n",
    "\n",
    "fig, ax = plt.subplots(2, 3, figsize=(25,12))\n",
    "\n",
    "ax[0,0].set(xlabel='xx cntry - sales_count')\n",
    "ax[0,0].set(ylabel='xx cntry - sales_count_ratio')\n",
    "pie_param(ax[0,0], xx_item_order_plot, \"coolwarm\")\n",
    "\n",
    "ax[0,1].set(xlabel='yy cntry - train sales_count')\n",
    "pie_param(ax[0,1], yy_item_order_plot_1, \"Set3\")\n",
    "\n",
    "ax[0,2].set(xlabel='yy cntry - test sales_count')\n",
    "_ = pie_param(ax[0,2], yy_item_order_plot_0, \"Set3\")\n",
    "\n",
    "ax[1,1].set(xlabel='zz cntry - train sales_count')\n",
    "pie_param(ax[1,1], zz_item_order_plot_1, \"Set3\")\n",
    "\n",
    "ax[1,2].set(xlabel='zz cntry - test sales_count')\n",
    "_ = pie_param(ax[1,2], zz_item_order_plot_0, \"Set3\")"
   ]
  },
  {
   "cell_type": "code",
   "execution_count": null,
   "id": "9870db20-614f-4e60-968a-bafceb3a1102",
   "metadata": {
    "tags": []
   },
   "outputs": [],
   "source": [
    "print(xx_item_order_plot.head(20)['sales_count_ratio'].sum())\n",
    "print(yy_item_order_plot_1.head(20)['sales_count_ratio'].sum())\n",
    "print(yy_item_order_plot_0.head(20)['sales_count_ratio'].sum())\n",
    "print(zz_item_order_plot_1.head(20)['sales_count_ratio'].sum())\n",
    "print(zz_item_order_plot_0.head(20)['sales_count_ratio'].sum())"
   ]
  },
  {
   "cell_type": "code",
   "execution_count": null,
   "id": "bfe2a592-5d16-4d09-b900-c4df93ab9772",
   "metadata": {
    "tags": []
   },
   "outputs": [],
   "source": [
    "print('商品品类数', len(item['cate_id'].unique()))\n",
    "print('训练集商品品类数', len(df[train]['cate_id'].unique()))\n",
    "print('测试集商品品类数', len(df[test]['cate_id'].unique()))"
   ]
  },
  {
   "cell_type": "code",
   "execution_count": null,
   "id": "c9beb677-3094-408b-8ed5-e9a4b42bf670",
   "metadata": {
    "tags": []
   },
   "outputs": [],
   "source": [
    "cate_cnt = item.groupby(['cate_id']).size().to_frame('count').reset_index()\n",
    "cate_cnt.sort_values(by=['count'], ascending=False).head(5)"
   ]
  },
  {
   "cell_type": "code",
   "execution_count": null,
   "id": "3eadca9c-2692-4adb-8f0f-5b3cc95bda48",
   "metadata": {
    "tags": []
   },
   "outputs": [],
   "source": [
    "plt.figure(figsize=(12,4))\n",
    "sns.kdeplot(data=cate_cnt[cate_cnt['count']<1000]['count']);"
   ]
  },
  {
   "cell_type": "code",
   "execution_count": null,
   "id": "8affb34c-82ba-42bf-bffc-051e1a24c9c2",
   "metadata": {
    "tags": []
   },
   "outputs": [],
   "source": [
    "print('商品店铺数', len(item['store_id'].unique()))\n",
    "print('训练集店铺数', len(df[train]['store_id'].unique()))\n",
    "print('测试集店铺数', len(df[train]['store_id'].unique()))"
   ]
  },
  {
   "cell_type": "code",
   "execution_count": null,
   "id": "2d37a3af-c1d8-4282-be70-53011b13bf3a",
   "metadata": {
    "tags": []
   },
   "outputs": [],
   "source": [
    "store_cate_cnt = item.groupby(['store_id'])['cate_id'].nunique().to_frame('count').reset_index()\n",
    "store_cate_cnt.sort_values(by=['count'], ascending=False).head(5)"
   ]
  },
  {
   "cell_type": "code",
   "execution_count": null,
   "id": "845c3265-7061-460c-9969-fa83b11db7d6",
   "metadata": {
    "tags": []
   },
   "outputs": [],
   "source": [
    "store_cnt_cate_cnt = store_cate_cnt.groupby(['count']).size().reset_index()\n",
    "store_cnt_cate_cnt.columns = ['store_cate_count', 'same_store_cate_count_store_count']"
   ]
  },
  {
   "cell_type": "code",
   "execution_count": null,
   "id": "ad67fc82-8f67-4d66-a2f7-6eba211d5378",
   "metadata": {
    "tags": []
   },
   "outputs": [],
   "source": [
    "store_cnt_cate_cnt.head()"
   ]
  },
  {
   "cell_type": "code",
   "execution_count": null,
   "id": "3095211b-d4a0-42f5-85c8-45f674732aa0",
   "metadata": {
    "tags": []
   },
   "outputs": [],
   "source": [
    "plt.figure(figsize=(12,4))\n",
    "sns.barplot(x='store_cate_count', y='same_store_cate_count_store_count', \\\n",
    "            data=store_cnt_cate_cnt[store_cnt_cate_cnt['store_cate_count']<50], estimator=np.mean);"
   ]
  },
  {
   "cell_type": "code",
   "execution_count": null,
   "id": "813a91ce-1f52-412c-9899-ddaf81dbfa99",
   "metadata": {
    "tags": []
   },
   "outputs": [],
   "source": [
    "store_item_cnt = item.groupby(['store_id'])['item_id'].nunique().to_frame('count').reset_index()\n",
    "store_item_cnt.sort_values(by=['count'], ascending=False).head(5)"
   ]
  },
  {
   "cell_type": "code",
   "execution_count": null,
   "id": "047a0db7-a69b-452e-ac7f-a9464d5da7f3",
   "metadata": {
    "tags": []
   },
   "outputs": [],
   "source": [
    "store_cnt_item_cnt = store_item_cnt.groupby(['count']).size().reset_index()\n",
    "store_cnt_item_cnt.columns = ['store_item_count', 'same_store_item_count_store_count']"
   ]
  },
  {
   "cell_type": "code",
   "execution_count": null,
   "id": "11cd9e19-f84d-4997-8685-e365b2144673",
   "metadata": {
    "tags": []
   },
   "outputs": [],
   "source": [
    "store_cnt_item_cnt.T"
   ]
  },
  {
   "cell_type": "code",
   "execution_count": null,
   "id": "8391df39-9ea3-4faf-a589-f05d0422762d",
   "metadata": {
    "tags": []
   },
   "outputs": [],
   "source": [
    "plt.figure(figsize=(16,4))\n",
    "sns.barplot(x='store_item_count', y='same_store_item_count_store_count', \\\n",
    "            data=store_cnt_item_cnt[store_cnt_item_cnt['store_item_count']<80], estimator=np.mean);"
   ]
  },
  {
   "cell_type": "code",
   "execution_count": null,
   "id": "120c1978-e8b0-48a5-abe9-0a61a7963307",
   "metadata": {
    "tags": []
   },
   "outputs": [],
   "source": [
    "print(item['item_price'].max(), item['item_price'].min(), item['item_price'].mean(), item['item_price'].median())"
   ]
  },
  {
   "cell_type": "code",
   "execution_count": null,
   "id": "dae7622f-e3fa-44ca-af0d-89d99e3cd3c5",
   "metadata": {
    "tags": []
   },
   "outputs": [],
   "source": [
    "plt.figure(figsize=(16,4))\n",
    "plt.subplot(121)\n",
    "sns.kdeplot(item['item_price'])\n",
    "plt.subplot(122)\n",
    "sns.kdeplot(item['item_price'][item['item_price']<5000]);"
   ]
  },
  {
   "cell_type": "code",
   "execution_count": null,
   "id": "74691075-6d66-4514-bf83-43998a34e0b6",
   "metadata": {
    "tags": []
   },
   "outputs": [],
   "source": [
    "price_cnt = item.groupby(['item_price']).size().to_frame('count').reset_index()\n",
    "price_cnt.sort_values(by=['count'], ascending=False).head(10)"
   ]
  },
  {
   "cell_type": "code",
   "execution_count": null,
   "id": "6efc1306-12b0-4e24-9a50-34fb650367dc",
   "metadata": {
    "tags": []
   },
   "outputs": [],
   "source": [
    "print(df[train].query(\"buy_flag==1\")['item_price'].max(), df[train].query(\"buy_flag==1\")['item_price'].min(), \\\n",
    "      df[train].query(\"buy_flag==1\")['item_price'].mean(), df[train].query(\"buy_flag==1\")['item_price'].median())\n",
    "print(df[test].query(\"buy_flag==1\")['item_price'].max(), df[test].query(\"buy_flag==1\")['item_price'].min(), \\\n",
    "      df[test].query(\"buy_flag==1\")['item_price'].mean(), df[test].query(\"buy_flag==1\")['item_price'].median())"
   ]
  },
  {
   "cell_type": "code",
   "execution_count": null,
   "id": "3aed9f22-0a08-424b-8111-295809130b8e",
   "metadata": {
    "tags": []
   },
   "outputs": [],
   "source": [
    "plt.figure(figsize=(12,4))\n",
    "sns.kdeplot(df[train].query(\"buy_flag==1\")[df[train]['item_price']<2000][['item_id','item_price']].drop_duplicates()['item_price'])\n",
    "sns.kdeplot(df[test].query(\"buy_flag==1\")[df[test]['item_price']<2000][['item_id','item_price']].drop_duplicates()['item_price'])\n",
    "_ = plt.legend([\"train\",\"test\"])"
   ]
  },
  {
   "cell_type": "code",
   "execution_count": null,
   "id": "29d19995-6290-445f-b63d-a38e438ec69d",
   "metadata": {
    "tags": []
   },
   "outputs": [],
   "source": [
    "df[train].query(\"buy_flag==1\").groupby(['item_price'])['item_id'].nunique().to_frame('same_price_item_count').head()"
   ]
  },
  {
   "cell_type": "code",
   "execution_count": null,
   "id": "c2128dc1-6a91-4f1e-ac9c-dbfca36b635d",
   "metadata": {
    "tags": []
   },
   "outputs": [],
   "source": [
    "price_cnt = groupby_cnt_ratio(df.query(\"buy_flag==1\"), 'item_price')\n",
    "price_cnt.groupby(['is_train', 'country_id']).head(5)"
   ]
  },
  {
   "cell_type": "code",
   "execution_count": null,
   "id": "91602727-9b5f-484f-a4f7-4a6168fd2802",
   "metadata": {
    "tags": []
   },
   "outputs": [],
   "source": [
    "print(df[train]['log_time'].min(), df[train]['log_time'].max())\n",
    "print(df[test]['log_time'].min(), df[test]['log_time'].max())"
   ]
  },
  {
   "cell_type": "code",
   "execution_count": null,
   "id": "3f75bbb4-8c6e-4dc4-a18b-31b3aeb4b040",
   "metadata": {
    "tags": []
   },
   "outputs": [],
   "source": [
    "date_cnt = groupby_cnt_ratio(df.query(\"buy_flag==1\"), 'date')\n",
    "date_cnt.columns = ['date_sales', \"date_sales_ratio\"]\n",
    "date_cnt = date_cnt.reset_index().sort_values(by=\"date\")\n",
    "date_cnt"
   ]
  },
  {
   "cell_type": "code",
   "execution_count": null,
   "id": "aef5133b-e22f-4a8b-9cc5-01876b989e14",
   "metadata": {
    "tags": []
   },
   "outputs": [],
   "source": [
    "fig, ax = plt.subplots(3, 1, figsize=(25,30))\n",
    "sax = sns.lineplot(x='date', y='date_sales', hue='country_id', data=date_cnt[(date_cnt['is_train']==1)], \n",
    "            estimator=np.mean, ax=ax[0])\n",
    "_ = sax.set_title('train cntry - date sales')\n",
    "sax.set_xticklabels(sax.get_xticklabels(), rotation=90)\n",
    "\n",
    "sax = sns.lineplot(x='date', y='date_sales', hue='is_train', data=date_cnt[(date_cnt['country_id']=='yy')], \n",
    "            estimator=np.mean, ax=ax[1])\n",
    "sax.set_title('yy cntry date sales')\n",
    "_ = sax.set_xticklabels(sax.get_xticklabels(), rotation=90)\n",
    "\n",
    "sax = sns.lineplot(x='date', y='date_sales', hue='is_train', data=date_cnt[(date_cnt['country_id']=='zz')], \n",
    "            estimator=np.mean, ax=ax[2])\n",
    "sax.set_title('zz cntry date sales')\n",
    "_ = sax.set_xticklabels(sax.get_xticklabels(), rotation=90)"
   ]
  },
  {
   "cell_type": "code",
   "execution_count": null,
   "id": "1378901e-e7fa-4288-808e-83c2fc0a6a7c",
   "metadata": {
    "tags": []
   },
   "outputs": [],
   "source": [
    "fig, ax = plt.subplots(2, 3, figsize=(20,16))\n",
    "def barplot(ax, df, title):\n",
    "    df['date'] = df['date'].astype(str)\n",
    "    sns.barplot(y='date', x='date_sales', data=df, order=sorted(df['date'].unique()), ax=ax, estimator=np.mean)\\\n",
    "    .set_title(title)\n",
    "    \n",
    "barplot(ax[0][0], seven[(seven['is_train']==1) & (seven['buyer_country_id']=='xx')], 'xx cntry 7 month date sales')\n",
    "barplot(ax[1][0], eight[(eight['is_train']==1) & (eight['buyer_country_id']=='xx')], 'xx cntry 8 month date sales')\n",
    "barplot(ax[0][1], seven[(seven['is_train']==1) & (seven['buyer_country_id']=='yy')], 'train - yy cntry 7 month date sales')\n",
    "barplot(ax[1][1], eight[(eight['is_train']==1) & (eight['buyer_country_id']=='yy')], 'train - yy cntry 8 month date sales')\n",
    "barplot(ax[0][2], seven[(seven['is_train']==0) & (seven['buyer_country_id']=='yy')], 'test - yy cntry 7 month date sales')\n",
    "barplot(ax[1][2], eight[(eight['is_train']==0) & (eight['buyer_country_id']=='yy')], 'test - yy cntry 8 month date sales')\n",
    "plt.tight_layout()"
   ]
  }
 ],
 "metadata": {
  "kernelspec": {
   "display_name": "Python 3 (ipykernel)",
   "language": "python",
   "name": "python3"
  },
  "language_info": {
   "codemirror_mode": {
    "name": "ipython",
    "version": 3
   },
   "file_extension": ".py",
   "mimetype": "text/x-python",
   "name": "python",
   "nbconvert_exporter": "python",
   "pygments_lexer": "ipython3",
   "version": "3.10.10"
  }
 },
 "nbformat": 4,
 "nbformat_minor": 5
}
