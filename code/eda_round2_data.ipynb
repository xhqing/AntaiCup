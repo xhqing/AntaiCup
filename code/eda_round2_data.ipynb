{
 "cells": [
  {
   "cell_type": "markdown",
   "id": "f5a3ccae-37e0-4c6a-a5a1-9522d5da51ab",
   "metadata": {},
   "source": [
    "# 复赛数据\n",
    "在给出若干日内来自某成熟国家xx的部分用户的点击购买数据，以及来自某待成熟国家yy和待成熟国家zz的A部分用户的点击购买数据，以及国家yy和zz的B部分用户的截止最后一条购买数据之前的所有点击购买数据，让参赛人预测B部分用户的最后一条购买数据。\n",
    "\n",
    "商品属性表: 商品的类目id、店铺id以及加密价格，其中价格的加密函数f(x)为一个单调增函数。\n",
    "训练数据: 给出xx国的用户的点击、购买数据和yy国、zz国的A部分用户的点击、购买数据。\n",
    "测试数据: 给出yy国、zz国的B部分用户的最后一条购买数据之前的点击购买数据.\n",
    "\n",
    "训练数据和测试数据的数据结构是一样的，其中各字段含义如下：\n",
    "country_id: 买家国家id, 只有'xx','yy','zz'三种取值\n",
    "buyer_admin_id: 买家id\n",
    "item_id: 商品id\n",
    "log_time: 商品详情页访问时间\n",
    "irank: 每个买家对应的所有记录按照时间顺序的逆排序\n",
    "buy_flag: 当日是否购买\n",
    "\n",
    "数据集特点：\n",
    "每个用户有若干条点击数据和至少1条购买数据 （但测试数据中该条购买记录可能未给出到选手）\n",
    "每个用户的最后一条数据的buy_flag一定为1 （但测试数据中该条数据未给出到选手）\n",
    "测试数据中每个用户的最后一条点击数据（也是购买数据）所对应的商品一定在训练数据中出现过.\n",
    "可能存在少量跨国买家.\n",
    "\n",
    "要求选手提交的数据\n",
    "关于yy国、zz国的B部分用户每个用户的最后一条购买数据的预测Top30\n",
    "\n",
    "提交说明：\n",
    "选手提交的CSV文件, 其格式应如下：\n",
    "buyer_admin_id,predict 1,predict 2,…,predict 30\n",
    "其中buyer_admin_id为买家id, predict 1 ,…, predict 30 为预测用户购买商品Top30的item_id依概率从高到低排序，不含表头，例如：\n",
    "\n",
    "1233434,4354,23432,6546,...,91343\n",
    "\n",
    "2132133,154,20987,34349,...,78772\n",
    "\n",
    "\n",
    "\n",
    "评估方法：\n",
    "MRR(Mean Reciprocal Rank)： 首先对选手提交的表格中的每个用户计算用户得分\n",
    "$$\n",
    "score\\left(buyer\\right) = \\sum_{k=1}^{30}\\frac{s\\left(buyer,k\\right)}{k}\n",
    "$$\n",
    "\n",
    "其中, 如果选手对该buyer的预测结果predict k命中该buyer的最后一条购买数据则$s\\left(buyer,k\\right)=1$; 否则$s\\left(buyer,k\\right)=0$. 最终得分为所有这些buyer的平均值。\n"
   ]
  },
  {
   "cell_type": "code",
   "execution_count": 1,
   "id": "c2f67c76-44f1-4e44-9969-54a3b699b283",
   "metadata": {},
   "outputs": [],
   "source": [
    "import pandas as pd \n",
    "import numpy as np \n",
    "import matplotlib.pyplot as plt \n",
    "import seaborn as sns \n",
    "%matplotlib inline\n",
    "\n",
    "import warnings\n",
    "warnings.filterwarnings(\"ignore\")"
   ]
  },
  {
   "cell_type": "code",
   "execution_count": 2,
   "id": "2a3c67b3-de20-414d-a793-4854224ad2e3",
   "metadata": {},
   "outputs": [],
   "source": [
    "item = pd.read_csv('../data/Antai_AE/Antai_AE_round2_item_attr_20190813.csv')\n",
    "train = pd.read_csv('../data/Antai_AE/Antai_AE_round2_train_20190813.csv')\n",
    "test = pd.read_csv('../data/Antai_AE/Antai_AE_round2_test_20190813.csv')"
   ]
  },
  {
   "cell_type": "code",
   "execution_count": 4,
   "id": "1640d845-4d35-4a3f-a384-029019ee1ea7",
   "metadata": {},
   "outputs": [
    {
     "data": {
      "text/plain": [
       "item_id       False\n",
       "cate_id       False\n",
       "store_id      False\n",
       "item_price    False\n",
       "dtype: bool"
      ]
     },
     "execution_count": 4,
     "metadata": {},
     "output_type": "execute_result"
    }
   ],
   "source": [
    "item.isnull().any()"
   ]
  },
  {
   "cell_type": "code",
   "execution_count": 5,
   "id": "aaf49bbe-f632-4fc2-a6e2-d37cadc1b826",
   "metadata": {},
   "outputs": [
    {
     "data": {
      "text/html": [
       "<div>\n",
       "<style scoped>\n",
       "    .dataframe tbody tr th:only-of-type {\n",
       "        vertical-align: middle;\n",
       "    }\n",
       "\n",
       "    .dataframe tbody tr th {\n",
       "        vertical-align: top;\n",
       "    }\n",
       "\n",
       "    .dataframe thead th {\n",
       "        text-align: right;\n",
       "    }\n",
       "</style>\n",
       "<table border=\"1\" class=\"dataframe\">\n",
       "  <thead>\n",
       "    <tr style=\"text-align: right;\">\n",
       "      <th></th>\n",
       "      <th>country_id</th>\n",
       "      <th>buyer_admin_id</th>\n",
       "      <th>item_id</th>\n",
       "      <th>log_time</th>\n",
       "      <th>irank</th>\n",
       "      <th>buy_flag</th>\n",
       "    </tr>\n",
       "  </thead>\n",
       "  <tbody>\n",
       "    <tr>\n",
       "      <th>0</th>\n",
       "      <td>xx</td>\n",
       "      <td>1</td>\n",
       "      <td>7554</td>\n",
       "      <td>2018-04-19 10:59:56</td>\n",
       "      <td>79</td>\n",
       "      <td>0</td>\n",
       "    </tr>\n",
       "    <tr>\n",
       "      <th>1</th>\n",
       "      <td>xx</td>\n",
       "      <td>1</td>\n",
       "      <td>7937</td>\n",
       "      <td>2018-04-19 11:17:45</td>\n",
       "      <td>62</td>\n",
       "      <td>0</td>\n",
       "    </tr>\n",
       "    <tr>\n",
       "      <th>2</th>\n",
       "      <td>xx</td>\n",
       "      <td>1</td>\n",
       "      <td>7544</td>\n",
       "      <td>2018-04-18 22:19:30</td>\n",
       "      <td>81</td>\n",
       "      <td>0</td>\n",
       "    </tr>\n",
       "    <tr>\n",
       "      <th>3</th>\n",
       "      <td>xx</td>\n",
       "      <td>1</td>\n",
       "      <td>7559</td>\n",
       "      <td>2018-04-18 22:15:27</td>\n",
       "      <td>82</td>\n",
       "      <td>0</td>\n",
       "    </tr>\n",
       "    <tr>\n",
       "      <th>4</th>\n",
       "      <td>xx</td>\n",
       "      <td>1</td>\n",
       "      <td>7554</td>\n",
       "      <td>2018-04-19 11:28:34</td>\n",
       "      <td>46</td>\n",
       "      <td>0</td>\n",
       "    </tr>\n",
       "  </tbody>\n",
       "</table>\n",
       "</div>"
      ],
      "text/plain": [
       "  country_id  buyer_admin_id  item_id             log_time  irank  buy_flag\n",
       "0         xx               1     7554  2018-04-19 10:59:56     79         0\n",
       "1         xx               1     7937  2018-04-19 11:17:45     62         0\n",
       "2         xx               1     7544  2018-04-18 22:19:30     81         0\n",
       "3         xx               1     7559  2018-04-18 22:15:27     82         0\n",
       "4         xx               1     7554  2018-04-19 11:28:34     46         0"
      ]
     },
     "execution_count": 5,
     "metadata": {},
     "output_type": "execute_result"
    }
   ],
   "source": [
    "train.head()"
   ]
  },
  {
   "cell_type": "code",
   "execution_count": 6,
   "id": "f8a73b16-a7d9-4c32-981d-029f23cdac83",
   "metadata": {},
   "outputs": [
    {
     "data": {
      "text/html": [
       "<div>\n",
       "<style scoped>\n",
       "    .dataframe tbody tr th:only-of-type {\n",
       "        vertical-align: middle;\n",
       "    }\n",
       "\n",
       "    .dataframe tbody tr th {\n",
       "        vertical-align: top;\n",
       "    }\n",
       "\n",
       "    .dataframe thead th {\n",
       "        text-align: right;\n",
       "    }\n",
       "</style>\n",
       "<table border=\"1\" class=\"dataframe\">\n",
       "  <thead>\n",
       "    <tr style=\"text-align: right;\">\n",
       "      <th></th>\n",
       "      <th>country_id</th>\n",
       "      <th>buyer_admin_id</th>\n",
       "      <th>item_id</th>\n",
       "      <th>log_time</th>\n",
       "      <th>irank</th>\n",
       "      <th>buy_flag</th>\n",
       "    </tr>\n",
       "  </thead>\n",
       "  <tbody>\n",
       "    <tr>\n",
       "      <th>0</th>\n",
       "      <td>zz</td>\n",
       "      <td>186</td>\n",
       "      <td>5759164</td>\n",
       "      <td>2018-04-16 05:11:47</td>\n",
       "      <td>37</td>\n",
       "      <td>0</td>\n",
       "    </tr>\n",
       "    <tr>\n",
       "      <th>1</th>\n",
       "      <td>zz</td>\n",
       "      <td>186</td>\n",
       "      <td>2321601</td>\n",
       "      <td>2018-04-16 04:57:35</td>\n",
       "      <td>48</td>\n",
       "      <td>0</td>\n",
       "    </tr>\n",
       "    <tr>\n",
       "      <th>2</th>\n",
       "      <td>zz</td>\n",
       "      <td>186</td>\n",
       "      <td>5244747</td>\n",
       "      <td>2018-04-17 12:24:43</td>\n",
       "      <td>2</td>\n",
       "      <td>0</td>\n",
       "    </tr>\n",
       "    <tr>\n",
       "      <th>3</th>\n",
       "      <td>zz</td>\n",
       "      <td>186</td>\n",
       "      <td>2136020</td>\n",
       "      <td>2018-04-17 11:53:41</td>\n",
       "      <td>8</td>\n",
       "      <td>0</td>\n",
       "    </tr>\n",
       "    <tr>\n",
       "      <th>4</th>\n",
       "      <td>zz</td>\n",
       "      <td>186</td>\n",
       "      <td>2137602</td>\n",
       "      <td>2018-04-16 04:57:36</td>\n",
       "      <td>47</td>\n",
       "      <td>0</td>\n",
       "    </tr>\n",
       "  </tbody>\n",
       "</table>\n",
       "</div>"
      ],
      "text/plain": [
       "  country_id  buyer_admin_id  item_id             log_time  irank  buy_flag\n",
       "0         zz             186  5759164  2018-04-16 05:11:47     37         0\n",
       "1         zz             186  2321601  2018-04-16 04:57:35     48         0\n",
       "2         zz             186  5244747  2018-04-17 12:24:43      2         0\n",
       "3         zz             186  2136020  2018-04-17 11:53:41      8         0\n",
       "4         zz             186  2137602  2018-04-16 04:57:36     47         0"
      ]
     },
     "execution_count": 6,
     "metadata": {},
     "output_type": "execute_result"
    }
   ],
   "source": [
    "test.head()"
   ]
  },
  {
   "cell_type": "code",
   "execution_count": 8,
   "id": "bda15acd-553f-4125-b957-21e0613a0913",
   "metadata": {},
   "outputs": [
    {
     "data": {
      "text/plain": [
       "('2018-04-16 00:00:00', '2018-04-30 23:59:00')"
      ]
     },
     "execution_count": 8,
     "metadata": {},
     "output_type": "execute_result"
    }
   ],
   "source": [
    "train[\"log_time\"].min(), train[\"log_time\"].max()"
   ]
  },
  {
   "cell_type": "code",
   "execution_count": 9,
   "id": "e15fcbaa-de10-415e-b6cd-2e01f222a459",
   "metadata": {},
   "outputs": [
    {
     "data": {
      "text/plain": [
       "('2018-04-16 00:00:05', '2018-04-30 23:52:06')"
      ]
     },
     "execution_count": 9,
     "metadata": {},
     "output_type": "execute_result"
    }
   ],
   "source": [
    "test[\"log_time\"].min(), test[\"log_time\"].max()"
   ]
  },
  {
   "cell_type": "code",
   "execution_count": 10,
   "id": "2b6b0a16-d297-403e-9b7b-d74c9894f3a8",
   "metadata": {},
   "outputs": [
    {
     "data": {
      "text/plain": [
       "(array(['xx', 'zz', 'yy'], dtype=object), array(['zz', 'yy'], dtype=object))"
      ]
     },
     "execution_count": 10,
     "metadata": {},
     "output_type": "execute_result"
    }
   ],
   "source": [
    "train[\"country_id\"].unique(), test[\"country_id\"].unique()"
   ]
  },
  {
   "cell_type": "code",
   "execution_count": 11,
   "id": "d17ca433-d7c6-4aec-be8e-b6dc63186ab5",
   "metadata": {},
   "outputs": [
    {
     "data": {
      "text/plain": [
       "(1, 2)"
      ]
     },
     "execution_count": 11,
     "metadata": {},
     "output_type": "execute_result"
    }
   ],
   "source": [
    "train[\"irank\"].min(), test[\"irank\"].min()"
   ]
  },
  {
   "cell_type": "code",
   "execution_count": 12,
   "id": "1c97e6fb-8563-4ed1-8b95-5d667f3f68be",
   "metadata": {},
   "outputs": [
    {
     "data": {
      "text/plain": [
       "(614960, 9844)"
      ]
     },
     "execution_count": 12,
     "metadata": {},
     "output_type": "execute_result"
    }
   ],
   "source": [
    "train[\"buyer_admin_id\"].nunique(), test[\"buyer_admin_id\"].nunique()"
   ]
  },
  {
   "cell_type": "code",
   "execution_count": 13,
   "id": "0de05773-1fe5-4d5c-b222-6d2a77c411c7",
   "metadata": {},
   "outputs": [
    {
     "data": {
      "text/plain": [
       "(264473, 39848)"
      ]
     },
     "execution_count": 13,
     "metadata": {},
     "output_type": "execute_result"
    }
   ],
   "source": [
    "train[\"irank\"].max(), test[\"irank\"].max()"
   ]
  },
  {
   "cell_type": "code",
   "execution_count": 15,
   "id": "dd0b822e-24c8-42b9-aafe-950868422fc8",
   "metadata": {},
   "outputs": [
    {
     "data": {
      "text/plain": [
       "(array([0, 1]), array([0, 1]))"
      ]
     },
     "execution_count": 15,
     "metadata": {},
     "output_type": "execute_result"
    }
   ],
   "source": [
    "train[\"buy_flag\"].unique(), test[\"buy_flag\"].unique()"
   ]
  },
  {
   "cell_type": "code",
   "execution_count": 16,
   "id": "9c7588eb-6442-40d6-b448-eb59f7bdd627",
   "metadata": {},
   "outputs": [
    {
     "data": {
      "text/plain": [
       "country_id        False\n",
       "buyer_admin_id    False\n",
       "item_id           False\n",
       "log_time          False\n",
       "irank             False\n",
       "buy_flag          False\n",
       "dtype: bool"
      ]
     },
     "execution_count": 16,
     "metadata": {},
     "output_type": "execute_result"
    }
   ],
   "source": [
    "train.isnull().any()"
   ]
  },
  {
   "cell_type": "code",
   "execution_count": 17,
   "id": "26fe7347-eb97-4da5-895e-0a9c574b8e42",
   "metadata": {},
   "outputs": [
    {
     "data": {
      "text/plain": [
       "country_id        False\n",
       "buyer_admin_id    False\n",
       "item_id           False\n",
       "log_time          False\n",
       "irank             False\n",
       "buy_flag          False\n",
       "dtype: bool"
      ]
     },
     "execution_count": 17,
     "metadata": {},
     "output_type": "execute_result"
    }
   ],
   "source": [
    "test.isnull().any()"
   ]
  },
  {
   "cell_type": "code",
   "execution_count": 20,
   "id": "11a1b72d-a8b7-4d89-bd05-2e9c9c74add1",
   "metadata": {},
   "outputs": [
    {
     "data": {
      "text/plain": [
       "(1, 1)"
      ]
     },
     "execution_count": 20,
     "metadata": {},
     "output_type": "execute_result"
    }
   ],
   "source": [
    "train.groupby(\"buyer_admin_id\").size().min(), test.groupby(\"buyer_admin_id\").size().min()"
   ]
  },
  {
   "cell_type": "code",
   "execution_count": 21,
   "id": "332f5752-fd05-46b5-94c2-2bd51f611717",
   "metadata": {},
   "outputs": [
    {
     "data": {
      "text/plain": [
       "(264473, 39847)"
      ]
     },
     "execution_count": 21,
     "metadata": {},
     "output_type": "execute_result"
    }
   ],
   "source": [
    "train.groupby(\"buyer_admin_id\").size().max(), test.groupby(\"buyer_admin_id\").size().max()"
   ]
  },
  {
   "cell_type": "code",
   "execution_count": 22,
   "id": "b410067f-b389-43f3-afce-ebb0ce206331",
   "metadata": {},
   "outputs": [
    {
     "data": {
      "text/plain": [
       "1    624804\n",
       "Name: country_id, dtype: int64"
      ]
     },
     "execution_count": 22,
     "metadata": {},
     "output_type": "execute_result"
    }
   ],
   "source": [
    "pd.concat([train, test]).groupby(\"buyer_admin_id\")[\"country_id\"].nunique().value_counts()"
   ]
  },
  {
   "cell_type": "code",
   "execution_count": null,
   "id": "4b8018b0-de13-4b21-a53c-664fe964b92a",
   "metadata": {},
   "outputs": [],
   "source": []
  }
 ],
 "metadata": {
  "kernelspec": {
   "display_name": "AntaiCup-VAR0c4pl",
   "language": "python",
   "name": "antaicup-var0c4pl"
  },
  "language_info": {
   "codemirror_mode": {
    "name": "ipython",
    "version": 3
   },
   "file_extension": ".py",
   "mimetype": "text/x-python",
   "name": "python",
   "nbconvert_exporter": "python",
   "pygments_lexer": "ipython3",
   "version": "3.9.12"
  }
 },
 "nbformat": 4,
 "nbformat_minor": 5
}
